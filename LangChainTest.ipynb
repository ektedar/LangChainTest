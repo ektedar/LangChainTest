{
  "nbformat": 4,
  "nbformat_minor": 0,
  "metadata": {
    "colab": {
      "provenance": [],
      "authorship_tag": "ABX9TyPnF7BPznaFYHWnYtCxCry1",
      "include_colab_link": true
    },
    "kernelspec": {
      "name": "python3",
      "display_name": "Python 3"
    },
    "language_info": {
      "name": "python"
    }
  },
  "cells": [
    {
      "cell_type": "markdown",
      "metadata": {
        "id": "view-in-github",
        "colab_type": "text"
      },
      "source": [
        "<a href=\"https://colab.research.google.com/github/ektedar/LangChainTest/blob/main/LangChainTest.ipynb\" target=\"_parent\"><img src=\"https://colab.research.google.com/assets/colab-badge.svg\" alt=\"Open In Colab\"/></a>"
      ]
    },
    {
      "cell_type": "markdown",
      "source": [
        "# LangChain\n",
        "\n",
        "Objective is to investigate how LangChain interacts and works with GPT 4.0 and how we can use it to template and/or analyze data.  \n",
        "\n",
        "1. We need to find a data that we can play\n",
        "2. We need to get the API token from OpenAI\n",
        "3. We need to install LangChain and understand its inner workings"
      ],
      "metadata": {
        "id": "zZsyUg9VHo3h"
      }
    },
    {
      "cell_type": "markdown",
      "source": [
        "## Install LangChain"
      ],
      "metadata": {
        "id": "0FrbRHOOIR5F"
      }
    },
    {
      "cell_type": "code",
      "source": [
        "!pip install langchain openai"
      ],
      "metadata": {
        "colab": {
          "base_uri": "https://localhost:8080/"
        },
        "id": "igtEUaeTIUzH",
        "outputId": "6494b686-1211-49b4-efe3-604f63737910"
      },
      "execution_count": 2,
      "outputs": [
        {
          "output_type": "stream",
          "name": "stdout",
          "text": [
            "Collecting langchain\n",
            "  Downloading langchain-0.0.220-py3-none-any.whl (1.2 MB)\n",
            "\u001b[?25l     \u001b[90m━━━━━━━━━━━━━━━━━━━━━━━━━━━━━━━━━━━━━━━━\u001b[0m \u001b[32m0.0/1.2 MB\u001b[0m \u001b[31m?\u001b[0m eta \u001b[36m-:--:--\u001b[0m\r\u001b[2K     \u001b[91m━━━━━━━\u001b[0m\u001b[90m╺\u001b[0m\u001b[90m━━━━━━━━━━━━━━━━━━━━━━━━━━━━━━━━\u001b[0m \u001b[32m0.2/1.2 MB\u001b[0m \u001b[31m5.9 MB/s\u001b[0m eta \u001b[36m0:00:01\u001b[0m\r\u001b[2K     \u001b[91m━━━━━━━━━━━━━━━━━━━━━━━━━━━━━━━━━━━━━━━\u001b[0m\u001b[91m╸\u001b[0m \u001b[32m1.2/1.2 MB\u001b[0m \u001b[31m17.1 MB/s\u001b[0m eta \u001b[36m0:00:01\u001b[0m\r\u001b[2K     \u001b[90m━━━━━━━━━━━━━━━━━━━━━━━━━━━━━━━━━━━━━━━━\u001b[0m \u001b[32m1.2/1.2 MB\u001b[0m \u001b[31m14.6 MB/s\u001b[0m eta \u001b[36m0:00:00\u001b[0m\n",
            "\u001b[?25hCollecting openai\n",
            "  Downloading openai-0.27.8-py3-none-any.whl (73 kB)\n",
            "\u001b[2K     \u001b[90m━━━━━━━━━━━━━━━━━━━━━━━━━━━━━━━━━━━━━━━━\u001b[0m \u001b[32m73.6/73.6 kB\u001b[0m \u001b[31m7.3 MB/s\u001b[0m eta \u001b[36m0:00:00\u001b[0m\n",
            "\u001b[?25hRequirement already satisfied: PyYAML>=5.4.1 in /usr/local/lib/python3.10/dist-packages (from langchain) (6.0)\n",
            "Requirement already satisfied: SQLAlchemy<3,>=1.4 in /usr/local/lib/python3.10/dist-packages (from langchain) (2.0.16)\n",
            "Requirement already satisfied: aiohttp<4.0.0,>=3.8.3 in /usr/local/lib/python3.10/dist-packages (from langchain) (3.8.4)\n",
            "Requirement already satisfied: async-timeout<5.0.0,>=4.0.0 in /usr/local/lib/python3.10/dist-packages (from langchain) (4.0.2)\n",
            "Collecting dataclasses-json<0.6.0,>=0.5.7 (from langchain)\n",
            "  Downloading dataclasses_json-0.5.9-py3-none-any.whl (26 kB)\n",
            "Collecting langchainplus-sdk>=0.0.17 (from langchain)\n",
            "  Downloading langchainplus_sdk-0.0.18-py3-none-any.whl (25 kB)\n",
            "Requirement already satisfied: numexpr<3.0.0,>=2.8.4 in /usr/local/lib/python3.10/dist-packages (from langchain) (2.8.4)\n",
            "Requirement already satisfied: numpy<2,>=1 in /usr/local/lib/python3.10/dist-packages (from langchain) (1.22.4)\n",
            "Collecting openapi-schema-pydantic<2.0,>=1.2 (from langchain)\n",
            "  Downloading openapi_schema_pydantic-1.2.4-py3-none-any.whl (90 kB)\n",
            "\u001b[2K     \u001b[90m━━━━━━━━━━━━━━━━━━━━━━━━━━━━━━━━━━━━━━━━\u001b[0m \u001b[32m90.0/90.0 kB\u001b[0m \u001b[31m11.5 MB/s\u001b[0m eta \u001b[36m0:00:00\u001b[0m\n",
            "\u001b[?25hRequirement already satisfied: pydantic<2,>=1 in /usr/local/lib/python3.10/dist-packages (from langchain) (1.10.9)\n",
            "Requirement already satisfied: requests<3,>=2 in /usr/local/lib/python3.10/dist-packages (from langchain) (2.27.1)\n",
            "Requirement already satisfied: tenacity<9.0.0,>=8.1.0 in /usr/local/lib/python3.10/dist-packages (from langchain) (8.2.2)\n",
            "Requirement already satisfied: tqdm in /usr/local/lib/python3.10/dist-packages (from openai) (4.65.0)\n",
            "Requirement already satisfied: attrs>=17.3.0 in /usr/local/lib/python3.10/dist-packages (from aiohttp<4.0.0,>=3.8.3->langchain) (23.1.0)\n",
            "Requirement already satisfied: charset-normalizer<4.0,>=2.0 in /usr/local/lib/python3.10/dist-packages (from aiohttp<4.0.0,>=3.8.3->langchain) (2.0.12)\n",
            "Requirement already satisfied: multidict<7.0,>=4.5 in /usr/local/lib/python3.10/dist-packages (from aiohttp<4.0.0,>=3.8.3->langchain) (6.0.4)\n",
            "Requirement already satisfied: yarl<2.0,>=1.0 in /usr/local/lib/python3.10/dist-packages (from aiohttp<4.0.0,>=3.8.3->langchain) (1.9.2)\n",
            "Requirement already satisfied: frozenlist>=1.1.1 in /usr/local/lib/python3.10/dist-packages (from aiohttp<4.0.0,>=3.8.3->langchain) (1.3.3)\n",
            "Requirement already satisfied: aiosignal>=1.1.2 in /usr/local/lib/python3.10/dist-packages (from aiohttp<4.0.0,>=3.8.3->langchain) (1.3.1)\n",
            "Collecting marshmallow<4.0.0,>=3.3.0 (from dataclasses-json<0.6.0,>=0.5.7->langchain)\n",
            "  Downloading marshmallow-3.19.0-py3-none-any.whl (49 kB)\n",
            "\u001b[2K     \u001b[90m━━━━━━━━━━━━━━━━━━━━━━━━━━━━━━━━━━━━━━━━\u001b[0m \u001b[32m49.1/49.1 kB\u001b[0m \u001b[31m5.5 MB/s\u001b[0m eta \u001b[36m0:00:00\u001b[0m\n",
            "\u001b[?25hCollecting marshmallow-enum<2.0.0,>=1.5.1 (from dataclasses-json<0.6.0,>=0.5.7->langchain)\n",
            "  Downloading marshmallow_enum-1.5.1-py2.py3-none-any.whl (4.2 kB)\n",
            "Collecting typing-inspect>=0.4.0 (from dataclasses-json<0.6.0,>=0.5.7->langchain)\n",
            "  Downloading typing_inspect-0.9.0-py3-none-any.whl (8.8 kB)\n",
            "Requirement already satisfied: typing-extensions>=4.2.0 in /usr/local/lib/python3.10/dist-packages (from pydantic<2,>=1->langchain) (4.6.3)\n",
            "Requirement already satisfied: urllib3<1.27,>=1.21.1 in /usr/local/lib/python3.10/dist-packages (from requests<3,>=2->langchain) (1.26.16)\n",
            "Requirement already satisfied: certifi>=2017.4.17 in /usr/local/lib/python3.10/dist-packages (from requests<3,>=2->langchain) (2023.5.7)\n",
            "Requirement already satisfied: idna<4,>=2.5 in /usr/local/lib/python3.10/dist-packages (from requests<3,>=2->langchain) (3.4)\n",
            "Requirement already satisfied: greenlet!=0.4.17 in /usr/local/lib/python3.10/dist-packages (from SQLAlchemy<3,>=1.4->langchain) (2.0.2)\n",
            "Requirement already satisfied: packaging>=17.0 in /usr/local/lib/python3.10/dist-packages (from marshmallow<4.0.0,>=3.3.0->dataclasses-json<0.6.0,>=0.5.7->langchain) (23.1)\n",
            "Collecting mypy-extensions>=0.3.0 (from typing-inspect>=0.4.0->dataclasses-json<0.6.0,>=0.5.7->langchain)\n",
            "  Downloading mypy_extensions-1.0.0-py3-none-any.whl (4.7 kB)\n",
            "Installing collected packages: mypy-extensions, marshmallow, typing-inspect, openapi-schema-pydantic, marshmallow-enum, langchainplus-sdk, openai, dataclasses-json, langchain\n",
            "Successfully installed dataclasses-json-0.5.9 langchain-0.0.220 langchainplus-sdk-0.0.18 marshmallow-3.19.0 marshmallow-enum-1.5.1 mypy-extensions-1.0.0 openai-0.27.8 openapi-schema-pydantic-1.2.4 typing-inspect-0.9.0\n"
          ]
        }
      ]
    },
    {
      "cell_type": "markdown",
      "source": [
        "# Sample Example\n",
        "\n",
        "Running a sample example from the LangChain documentation"
      ],
      "metadata": {
        "id": "xoMhvf00jtbi"
      }
    },
    {
      "cell_type": "code",
      "source": [
        "from langchain.llms import OpenAI\n",
        "from langchain.prompts import PromptTemplate"
      ],
      "metadata": {
        "id": "KAund7_tjwrD"
      },
      "execution_count": 3,
      "outputs": []
    },
    {
      "cell_type": "markdown",
      "source": [
        "## Get the OpenAI API Key\n",
        "\n",
        "Setting the OpenAI API Key for usage down the cells"
      ],
      "metadata": {
        "id": "yScaIrGlT72y"
      }
    },
    {
      "cell_type": "code",
      "source": [
        "import os\n",
        "import openai\n",
        "openai.organization = os.getenv(\"ORG_ID\")\n",
        "openai.api_key = os.getenv(\"OPENAI_API_KEY\")"
      ],
      "metadata": {
        "id": "PkcejRknTu1l"
      },
      "execution_count": 32,
      "outputs": []
    },
    {
      "cell_type": "markdown",
      "source": [
        "# Loading LLMS\n",
        "\n",
        "Settings the prompt template and the input variables.  So from this, it seems as if you have to set the template and designate an input variable that the prompt will swap out. The prompt will then be passed along to OpenAI and whatever model is invoked by the `OPENAI_API_KEY`"
      ],
      "metadata": {
        "id": "dj2xBt4CUnse"
      }
    },
    {
      "cell_type": "code",
      "source": [
        "llm = OpenAI(temperature=0.9) # Dont quite understand what the temperature truly does but sounds like it adds to randomness\n",
        "prompt = PromptTemplate(\n",
        "    input_variables=[\"city\"],\n",
        "    template=\"What is a good NFL name for a {city} that is already not in the NFL?\"\n",
        ")"
      ],
      "metadata": {
        "id": "UDPuybPIj8Rr"
      },
      "execution_count": 27,
      "outputs": []
    },
    {
      "cell_type": "markdown",
      "source": [
        "## Running the Chain\n",
        "\n",
        "Now we take a user input, pass it through the variable and format the prompt with it, send it to the LLM for its output."
      ],
      "metadata": {
        "id": "5ptP8QvSVdvc"
      }
    },
    {
      "cell_type": "code",
      "source": [
        "from langchain.chains import LLMChain\n",
        "chain = LLMChain(\n",
        "    llm=llm,\n",
        "    prompt=prompt\n",
        ")"
      ],
      "metadata": {
        "id": "8ew_iERnVprh"
      },
      "execution_count": 28,
      "outputs": []
    },
    {
      "cell_type": "code",
      "source": [
        "chain.run('Norwich').strip()"
      ],
      "metadata": {
        "colab": {
          "base_uri": "https://localhost:8080/",
          "height": 36
        },
        "id": "GRPLGMzaVzJh",
        "outputId": "6e7cd030-4895-45c4-f082-5e61ba6e1208"
      },
      "execution_count": 34,
      "outputs": [
        {
          "output_type": "execute_result",
          "data": {
            "text/plain": [
              "'Norwich Fury'"
            ],
            "application/vnd.google.colaboratory.intrinsic+json": {
              "type": "string"
            }
          },
          "metadata": {},
          "execution_count": 34
        }
      ]
    },
    {
      "cell_type": "markdown",
      "source": [
        "# Data Analysis with LangChain\n",
        "\n",
        "Let's attempt to analyze some data with LangChain and see how it performs. Let's grab some dataset from online, ideally from `Kaggle` and see if we can run some analysis on the dataset using LangChain."
      ],
      "metadata": {
        "id": "r9IHs7ZBV2QM"
      }
    },
    {
      "cell_type": "code",
      "source": [
        "import pandas as pd\n",
        "\n",
        "df = pd.read_csv('Basic_Stats.csv')"
      ],
      "metadata": {
        "id": "YA77226WXrRL"
      },
      "execution_count": 35,
      "outputs": []
    },
    {
      "cell_type": "code",
      "source": [
        "df.shape"
      ],
      "metadata": {
        "colab": {
          "base_uri": "https://localhost:8080/"
        },
        "id": "F0YtFH1-Yhav",
        "outputId": "57cd76d6-92ca-4168-d596-8c6afed9917d"
      },
      "execution_count": 37,
      "outputs": [
        {
          "output_type": "execute_result",
          "data": {
            "text/plain": [
              "(17172, 16)"
            ]
          },
          "metadata": {},
          "execution_count": 37
        }
      ]
    },
    {
      "cell_type": "code",
      "source": [
        "df.head()"
      ],
      "metadata": {
        "colab": {
          "base_uri": "https://localhost:8080/",
          "height": 337
        },
        "id": "tCObWA9gYiP9",
        "outputId": "69d4c23a-07d7-40bb-ba2c-c1e7a7f4e784"
      },
      "execution_count": 38,
      "outputs": [
        {
          "output_type": "execute_result",
          "data": {
            "text/plain": [
              "    Age        Birth Place    Birthday           College Current Status  \\\n",
              "0   NaN  Grand Rapids , MI   5/23/1921        Notre Dame        Retired   \n",
              "1   NaN        Dayton , OH  12/21/1930            Dayton        Retired   \n",
              "2  56.0        Temple , TX   9/11/1960    Louisiana Tech        Retired   \n",
              "3  30.0   New Orleans , LA   9/30/1986               LSU        Retired   \n",
              "4  25.0       Detroit , MI   3/31/1992  Central Michigan         Active   \n",
              "\n",
              "          Current Team  Experience  Height (inches)     High School  \\\n",
              "0                  NaN   3 Seasons             71.0             NaN   \n",
              "1                  NaN    1 Season             70.0             NaN   \n",
              "2                  NaN    1 Season             74.0             NaN   \n",
              "3                  NaN   5 Seasons             73.0             NaN   \n",
              "4  Pittsburgh Steelers  3rd season             77.0  Clintondale HS   \n",
              "\n",
              "          High School Location            Name  Number            Player Id  \\\n",
              "0                          NaN     Evans, Fred     NaN    fredevans/2513736   \n",
              "1                          NaN      Raiff, Jim     NaN     jimraiff/2523700   \n",
              "2                          NaN   Fowler, Bobby     NaN  bobbyfowler/2514295   \n",
              "3                          NaN  Johnson, Quinn     NaN   quinnjohnson/79593   \n",
              "4  Clinton Twp.,Macomb Co., MI    Walton, L.T.    96.0   l.t.walton/2552444   \n",
              "\n",
              "  Position  Weight (lbs) Years Played  \n",
              "0      NaN         185.0  1946 - 1948  \n",
              "1      NaN         235.0  1954 - 1954  \n",
              "2      NaN         230.0  1985 - 1985  \n",
              "3      NaN         255.0  2009 - 2013  \n",
              "4       DE         305.0          NaN  "
            ],
            "text/html": [
              "\n",
              "  <div id=\"df-bdd24dfa-45a6-491f-ad99-0b178fc12397\">\n",
              "    <div class=\"colab-df-container\">\n",
              "      <div>\n",
              "<style scoped>\n",
              "    .dataframe tbody tr th:only-of-type {\n",
              "        vertical-align: middle;\n",
              "    }\n",
              "\n",
              "    .dataframe tbody tr th {\n",
              "        vertical-align: top;\n",
              "    }\n",
              "\n",
              "    .dataframe thead th {\n",
              "        text-align: right;\n",
              "    }\n",
              "</style>\n",
              "<table border=\"1\" class=\"dataframe\">\n",
              "  <thead>\n",
              "    <tr style=\"text-align: right;\">\n",
              "      <th></th>\n",
              "      <th>Age</th>\n",
              "      <th>Birth Place</th>\n",
              "      <th>Birthday</th>\n",
              "      <th>College</th>\n",
              "      <th>Current Status</th>\n",
              "      <th>Current Team</th>\n",
              "      <th>Experience</th>\n",
              "      <th>Height (inches)</th>\n",
              "      <th>High School</th>\n",
              "      <th>High School Location</th>\n",
              "      <th>Name</th>\n",
              "      <th>Number</th>\n",
              "      <th>Player Id</th>\n",
              "      <th>Position</th>\n",
              "      <th>Weight (lbs)</th>\n",
              "      <th>Years Played</th>\n",
              "    </tr>\n",
              "  </thead>\n",
              "  <tbody>\n",
              "    <tr>\n",
              "      <th>0</th>\n",
              "      <td>NaN</td>\n",
              "      <td>Grand Rapids , MI</td>\n",
              "      <td>5/23/1921</td>\n",
              "      <td>Notre Dame</td>\n",
              "      <td>Retired</td>\n",
              "      <td>NaN</td>\n",
              "      <td>3 Seasons</td>\n",
              "      <td>71.0</td>\n",
              "      <td>NaN</td>\n",
              "      <td>NaN</td>\n",
              "      <td>Evans, Fred</td>\n",
              "      <td>NaN</td>\n",
              "      <td>fredevans/2513736</td>\n",
              "      <td>NaN</td>\n",
              "      <td>185.0</td>\n",
              "      <td>1946 - 1948</td>\n",
              "    </tr>\n",
              "    <tr>\n",
              "      <th>1</th>\n",
              "      <td>NaN</td>\n",
              "      <td>Dayton , OH</td>\n",
              "      <td>12/21/1930</td>\n",
              "      <td>Dayton</td>\n",
              "      <td>Retired</td>\n",
              "      <td>NaN</td>\n",
              "      <td>1 Season</td>\n",
              "      <td>70.0</td>\n",
              "      <td>NaN</td>\n",
              "      <td>NaN</td>\n",
              "      <td>Raiff, Jim</td>\n",
              "      <td>NaN</td>\n",
              "      <td>jimraiff/2523700</td>\n",
              "      <td>NaN</td>\n",
              "      <td>235.0</td>\n",
              "      <td>1954 - 1954</td>\n",
              "    </tr>\n",
              "    <tr>\n",
              "      <th>2</th>\n",
              "      <td>56.0</td>\n",
              "      <td>Temple , TX</td>\n",
              "      <td>9/11/1960</td>\n",
              "      <td>Louisiana Tech</td>\n",
              "      <td>Retired</td>\n",
              "      <td>NaN</td>\n",
              "      <td>1 Season</td>\n",
              "      <td>74.0</td>\n",
              "      <td>NaN</td>\n",
              "      <td>NaN</td>\n",
              "      <td>Fowler, Bobby</td>\n",
              "      <td>NaN</td>\n",
              "      <td>bobbyfowler/2514295</td>\n",
              "      <td>NaN</td>\n",
              "      <td>230.0</td>\n",
              "      <td>1985 - 1985</td>\n",
              "    </tr>\n",
              "    <tr>\n",
              "      <th>3</th>\n",
              "      <td>30.0</td>\n",
              "      <td>New Orleans , LA</td>\n",
              "      <td>9/30/1986</td>\n",
              "      <td>LSU</td>\n",
              "      <td>Retired</td>\n",
              "      <td>NaN</td>\n",
              "      <td>5 Seasons</td>\n",
              "      <td>73.0</td>\n",
              "      <td>NaN</td>\n",
              "      <td>NaN</td>\n",
              "      <td>Johnson, Quinn</td>\n",
              "      <td>NaN</td>\n",
              "      <td>quinnjohnson/79593</td>\n",
              "      <td>NaN</td>\n",
              "      <td>255.0</td>\n",
              "      <td>2009 - 2013</td>\n",
              "    </tr>\n",
              "    <tr>\n",
              "      <th>4</th>\n",
              "      <td>25.0</td>\n",
              "      <td>Detroit , MI</td>\n",
              "      <td>3/31/1992</td>\n",
              "      <td>Central Michigan</td>\n",
              "      <td>Active</td>\n",
              "      <td>Pittsburgh Steelers</td>\n",
              "      <td>3rd season</td>\n",
              "      <td>77.0</td>\n",
              "      <td>Clintondale HS</td>\n",
              "      <td>Clinton Twp.,Macomb Co., MI</td>\n",
              "      <td>Walton, L.T.</td>\n",
              "      <td>96.0</td>\n",
              "      <td>l.t.walton/2552444</td>\n",
              "      <td>DE</td>\n",
              "      <td>305.0</td>\n",
              "      <td>NaN</td>\n",
              "    </tr>\n",
              "  </tbody>\n",
              "</table>\n",
              "</div>\n",
              "      <button class=\"colab-df-convert\" onclick=\"convertToInteractive('df-bdd24dfa-45a6-491f-ad99-0b178fc12397')\"\n",
              "              title=\"Convert this dataframe to an interactive table.\"\n",
              "              style=\"display:none;\">\n",
              "        \n",
              "  <svg xmlns=\"http://www.w3.org/2000/svg\" height=\"24px\"viewBox=\"0 0 24 24\"\n",
              "       width=\"24px\">\n",
              "    <path d=\"M0 0h24v24H0V0z\" fill=\"none\"/>\n",
              "    <path d=\"M18.56 5.44l.94 2.06.94-2.06 2.06-.94-2.06-.94-.94-2.06-.94 2.06-2.06.94zm-11 1L8.5 8.5l.94-2.06 2.06-.94-2.06-.94L8.5 2.5l-.94 2.06-2.06.94zm10 10l.94 2.06.94-2.06 2.06-.94-2.06-.94-.94-2.06-.94 2.06-2.06.94z\"/><path d=\"M17.41 7.96l-1.37-1.37c-.4-.4-.92-.59-1.43-.59-.52 0-1.04.2-1.43.59L10.3 9.45l-7.72 7.72c-.78.78-.78 2.05 0 2.83L4 21.41c.39.39.9.59 1.41.59.51 0 1.02-.2 1.41-.59l7.78-7.78 2.81-2.81c.8-.78.8-2.07 0-2.86zM5.41 20L4 18.59l7.72-7.72 1.47 1.35L5.41 20z\"/>\n",
              "  </svg>\n",
              "      </button>\n",
              "      \n",
              "  <style>\n",
              "    .colab-df-container {\n",
              "      display:flex;\n",
              "      flex-wrap:wrap;\n",
              "      gap: 12px;\n",
              "    }\n",
              "\n",
              "    .colab-df-convert {\n",
              "      background-color: #E8F0FE;\n",
              "      border: none;\n",
              "      border-radius: 50%;\n",
              "      cursor: pointer;\n",
              "      display: none;\n",
              "      fill: #1967D2;\n",
              "      height: 32px;\n",
              "      padding: 0 0 0 0;\n",
              "      width: 32px;\n",
              "    }\n",
              "\n",
              "    .colab-df-convert:hover {\n",
              "      background-color: #E2EBFA;\n",
              "      box-shadow: 0px 1px 2px rgba(60, 64, 67, 0.3), 0px 1px 3px 1px rgba(60, 64, 67, 0.15);\n",
              "      fill: #174EA6;\n",
              "    }\n",
              "\n",
              "    [theme=dark] .colab-df-convert {\n",
              "      background-color: #3B4455;\n",
              "      fill: #D2E3FC;\n",
              "    }\n",
              "\n",
              "    [theme=dark] .colab-df-convert:hover {\n",
              "      background-color: #434B5C;\n",
              "      box-shadow: 0px 1px 3px 1px rgba(0, 0, 0, 0.15);\n",
              "      filter: drop-shadow(0px 1px 2px rgba(0, 0, 0, 0.3));\n",
              "      fill: #FFFFFF;\n",
              "    }\n",
              "  </style>\n",
              "\n",
              "      <script>\n",
              "        const buttonEl =\n",
              "          document.querySelector('#df-bdd24dfa-45a6-491f-ad99-0b178fc12397 button.colab-df-convert');\n",
              "        buttonEl.style.display =\n",
              "          google.colab.kernel.accessAllowed ? 'block' : 'none';\n",
              "\n",
              "        async function convertToInteractive(key) {\n",
              "          const element = document.querySelector('#df-bdd24dfa-45a6-491f-ad99-0b178fc12397');\n",
              "          const dataTable =\n",
              "            await google.colab.kernel.invokeFunction('convertToInteractive',\n",
              "                                                     [key], {});\n",
              "          if (!dataTable) return;\n",
              "\n",
              "          const docLinkHtml = 'Like what you see? Visit the ' +\n",
              "            '<a target=\"_blank\" href=https://colab.research.google.com/notebooks/data_table.ipynb>data table notebook</a>'\n",
              "            + ' to learn more about interactive tables.';\n",
              "          element.innerHTML = '';\n",
              "          dataTable['output_type'] = 'display_data';\n",
              "          await google.colab.output.renderOutput(dataTable, element);\n",
              "          const docLink = document.createElement('div');\n",
              "          docLink.innerHTML = docLinkHtml;\n",
              "          element.appendChild(docLink);\n",
              "        }\n",
              "      </script>\n",
              "    </div>\n",
              "  </div>\n",
              "  "
            ]
          },
          "metadata": {},
          "execution_count": 38
        }
      ]
    },
    {
      "cell_type": "markdown",
      "source": [
        "### NFL Data\n",
        "\n",
        "Here we are playing with some NFL data. We are going to see how much of analysis and data transformation we can do without actually having to write anything in `Pandas`. The goal of this is to understand how LangChain works in terms of data analysis and its capabilites surrounding it."
      ],
      "metadata": {
        "id": "xOWc1tVEYj9m"
      }
    },
    {
      "cell_type": "code",
      "source": [
        "from langchain.agents import create_pandas_dataframe_agent\n",
        "from langchain.chat_models import ChatOpenAI\n",
        "from langchain.agents.agent_types import AgentType\n",
        "from langchain.llms import OpenAI"
      ],
      "metadata": {
        "id": "E1jGJCdaYyCo"
      },
      "execution_count": 40,
      "outputs": []
    },
    {
      "cell_type": "markdown",
      "source": [
        "We will be creating an agent that will be interacting with the dataframe for us and will be using Python code underneath the hood.  Since it will be generating Python code, they have advised to use the agent cautiously. Best bet would be to test out the agent on a server rather than on a personal machine.\n",
        "\n",
        "So when initializing the agent, we are conducting the following operations:\n",
        "1. We are creating an `OpenAI` model with a specified temperature. Here is the opportunity to swap out the models and try with another model but essentially this is where you are initializing the model\n",
        "2. We are passing in the loaded `df` into the model.  Questions are, what type does the `df` need to be and are there any limitations when assigning the `df` to the `agent`.\n",
        "3. `verbose=True` is probably just to view the logs. This parameter will probably go along with `debug=True` if we are looking to implement it in a programmatic manner."
      ],
      "metadata": {
        "id": "QrgKUUfDZQNJ"
      }
    },
    {
      "cell_type": "code",
      "source": [
        "agent = create_pandas_dataframe_agent(\n",
        "    OpenAI(temperature=0),\n",
        "    df,\n",
        "    verbose=True\n",
        ")"
      ],
      "metadata": {
        "id": "R-QA_OlHZtmZ"
      },
      "execution_count": 41,
      "outputs": []
    },
    {
      "cell_type": "code",
      "source": [
        "agent.run(\"How many players have retired that are around the age of 34\")"
      ],
      "metadata": {
        "colab": {
          "base_uri": "https://localhost:8080/",
          "height": 1000
        },
        "id": "TKGOZ5WEZ0VL",
        "outputId": "d034e68d-ae81-4fab-aa44-0e85f708c0d5"
      },
      "execution_count": 44,
      "outputs": [
        {
          "output_type": "stream",
          "name": "stdout",
          "text": [
            "\n",
            "\n",
            "\u001b[1m> Entering new  chain...\u001b[0m\n",
            "\u001b[32;1m\u001b[1;3mThought: I need to find the players that have retired and are around the age of 34\n",
            "Action: python_repl_ast\n",
            "Action Input: df[(df['Current Status'] == 'Retired') & (df['Age'] >= 33) & (df['Age'] <= 35)]\u001b[0m\n",
            "Observation: \u001b[36;1m\u001b[1;3m        Age     Birth Place    Birthday               College Current Status  \\\n",
            "12     33.0             NaN   12/4/1983           Boise State        Retired   \n",
            "29     34.0             NaN    3/3/1983          Georgia Tech        Retired   \n",
            "47     33.0  Bradenton , FL    6/9/1983              Nebraska        Retired   \n",
            "67     34.0             NaN   5/29/1983      Eastern Michigan        Retired   \n",
            "77     33.0   San Jose , CA    2/6/1984      Washington State        Retired   \n",
            "...     ...             ...         ...                   ...            ...   \n",
            "17101  33.0   Portland , OR   9/16/1983           Boise State        Retired   \n",
            "17129  35.0             NaN    5/4/1982  North Carolina State        Retired   \n",
            "17130  34.0             NaN  10/23/1982            Louisville        Retired   \n",
            "17131  34.0    Oakland , CA  10/16/1982          Oregon State        Retired   \n",
            "17162  33.0             NaN   8/25/1983               Indiana        Retired   \n",
            "\n",
            "      Current Team Experience  Height (inches) High School  \\\n",
            "12             NaN   1 Season             74.0         NaN   \n",
            "29             NaN   1 Season             78.0         NaN   \n",
            "47             NaN  7 Seasons             71.0         NaN   \n",
            "67             NaN   0 Season             78.0         NaN   \n",
            "77             NaN  7 Seasons             71.0         NaN   \n",
            "...            ...        ...              ...         ...   \n",
            "17101          NaN  6 Seasons             74.0         NaN   \n",
            "17129          NaN  3 Seasons             71.0         NaN   \n",
            "17130          NaN   0 Season             76.0         NaN   \n",
            "17131          NaN   1 Season             75.0         NaN   \n",
            "17162          NaN   0 Season             72.0         NaN   \n",
            "\n",
            "      High School Location                 Name  Number  \\\n",
            "12                     NaN     Zabransky, Jared     NaN   \n",
            "29                     NaN        Wallace, Kyle     NaN   \n",
            "47                     NaN   Washington, Fabian     NaN   \n",
            "67                     NaN         Kaleita, Tom     NaN   \n",
            "77                     NaN       Frampton, Eric     NaN   \n",
            "...                    ...                  ...     ...   \n",
            "17101                  NaN       Naanee, Legedu     NaN   \n",
            "17129                  NaN         Reid, Lamont     NaN   \n",
            "17130                  NaN       Anderson, Zach     NaN   \n",
            "17131                  NaN  Anderson, Sir Henry     NaN   \n",
            "17162                  NaN     Gilmore, Jahkeen     NaN   \n",
            "\n",
            "                      Player Id Position  Weight (lbs) Years Played  \n",
            "12       jaredzabransky/2495791      NaN         219.0  2007 - 2007  \n",
            "29          kylewallace/2506142      NaN         295.0  2005 - 2005  \n",
            "47     fabianwashington/2506362      NaN         175.0  2005 - 2011  \n",
            "67           tomkaleita/2518101      NaN         318.0  2006 - 2006  \n",
            "77         ericframpton/2495605      NaN         202.0  2007 - 2013  \n",
            "...                         ...      ...           ...          ...  \n",
            "17101      legedunaanee/2495689      NaN         215.0  2007 - 2012  \n",
            "17129        lamontreid/2506249      NaN         195.0  2005 - 2008  \n",
            "17130      zachanderson/2508541      NaN         270.0  2007 - 2007  \n",
            "17131  sirhenryanderson/2506641      NaN         314.0  2006 - 2006  \n",
            "17162    jahkeengilmore/2514905      NaN         211.0  2007 - 2007  \n",
            "\n",
            "[895 rows x 16 columns]\u001b[0m\n",
            "Thought:\u001b[32;1m\u001b[1;3m I now know the final answer\n",
            "Final Answer: 895 players have retired that are around the age of 34.\u001b[0m\n",
            "\n",
            "\u001b[1m> Finished chain.\u001b[0m\n"
          ]
        },
        {
          "output_type": "execute_result",
          "data": {
            "text/plain": [
              "'895 players have retired that are around the age of 34.'"
            ],
            "application/vnd.google.colaboratory.intrinsic+json": {
              "type": "string"
            }
          },
          "metadata": {},
          "execution_count": 44
        }
      ]
    },
    {
      "cell_type": "markdown",
      "source": [
        "Let's give the model something more intense. That requires more than just small analysis of what's going on."
      ],
      "metadata": {
        "id": "LzwcHj_Mak_X"
      }
    },
    {
      "cell_type": "code",
      "source": [
        "game_logs_df = pd.read_csv('Game_Logs_Quarterback.csv')"
      ],
      "metadata": {
        "id": "T3tudhK0bOr_"
      },
      "execution_count": 46,
      "outputs": []
    },
    {
      "cell_type": "code",
      "source": [
        "game_logs_df"
      ],
      "metadata": {
        "colab": {
          "base_uri": "https://localhost:8080/",
          "height": 676
        },
        "id": "V29iyQo6bmtN",
        "outputId": "dca861bf-4a1c-4f19-cf8d-03c64cc78958"
      },
      "execution_count": 64,
      "outputs": [
        {
          "output_type": "execute_result",
          "data": {
            "text/plain": [
              "                    Player Id              Name Position  Year  \\\n",
              "0      jaredzabransky/2495791  Zabransky, Jared      NaN  2007   \n",
              "1      jaredzabransky/2495791  Zabransky, Jared      NaN  2007   \n",
              "2      jaredzabransky/2495791  Zabransky, Jared      NaN  2007   \n",
              "3      jaredzabransky/2495791  Zabransky, Jared      NaN  2007   \n",
              "4          billdemory/2512778      Demory, Bill      NaN  1974   \n",
              "...                       ...               ...      ...   ...   \n",
              "40242     steveramsey/2523725     Ramsey, Steve      NaN  1971   \n",
              "40243     steveramsey/2523725     Ramsey, Steve      NaN  1971   \n",
              "40244     steveramsey/2523725     Ramsey, Steve      NaN  1971   \n",
              "40245     steveramsey/2523725     Ramsey, Steve      NaN  1970   \n",
              "40246     steveramsey/2523725     Ramsey, Steve      NaN  1970   \n",
              "\n",
              "               Season  Week Game Date Home or Away Opponent Outcome  ... Ints  \\\n",
              "0           Preseason     1     08/11         Home      CHI       L  ...   --   \n",
              "1           Preseason     2     08/18         Away      ARI       W  ...    0   \n",
              "2           Preseason     3     08/25         Home      DAL       W  ...   --   \n",
              "3           Preseason     4     08/30         Away       TB       L  ...    1   \n",
              "4      Regular Season     1     09/15         Away       KC       L  ...   --   \n",
              "...               ...   ...       ...          ...      ...     ...  ...  ...   \n",
              "40242  Regular Season    12     12/05         Home      CHI       W  ...    2   \n",
              "40243  Regular Season    13     12/12         Away       SD       L  ...    3   \n",
              "40244  Regular Season    14     12/19         Away      OAK       L  ...    1   \n",
              "40245  Regular Season    13     12/13         Home       SF       L  ...   --   \n",
              "40246  Regular Season    14     12/20         Home      CHI       L  ...    0   \n",
              "\n",
              "       Sacks Sacked Yards Lost Passer Rating Rushing Attempts Rushing Yards  \\\n",
              "0         --                --           0.0               --            --   \n",
              "1          0                 0          46.9               --            --   \n",
              "2         --                --           0.0               --            --   \n",
              "3          2                13          50.8                2            17   \n",
              "4         --                --           0.0               --            --   \n",
              "...      ...               ...           ...              ...           ...   \n",
              "40242      3                27          25.3                2             0   \n",
              "40243      1                 6          37.3               --            --   \n",
              "40244      2                13          57.5                1             6   \n",
              "40245     --                --           0.0               --            --   \n",
              "40246      0                 0          39.6               --            --   \n",
              "\n",
              "      Yards Per Carry Rushing TDs Fumbles Fumbles Lost  \n",
              "0                  --          --      --           --  \n",
              "1                  --          --      --           --  \n",
              "2                  --          --      --           --  \n",
              "3                 8.5           0      --           --  \n",
              "4                  --          --      --           --  \n",
              "...               ...         ...     ...          ...  \n",
              "40242             0.0           0      --           --  \n",
              "40243              --          --      --           --  \n",
              "40244             6.0           0      --           --  \n",
              "40245              --          --      --           --  \n",
              "40246              --          --      --           --  \n",
              "\n",
              "[40247 rows x 29 columns]"
            ],
            "text/html": [
              "\n",
              "  <div id=\"df-0c51407d-7974-4d22-b238-95f88a3e32aa\">\n",
              "    <div class=\"colab-df-container\">\n",
              "      <div>\n",
              "<style scoped>\n",
              "    .dataframe tbody tr th:only-of-type {\n",
              "        vertical-align: middle;\n",
              "    }\n",
              "\n",
              "    .dataframe tbody tr th {\n",
              "        vertical-align: top;\n",
              "    }\n",
              "\n",
              "    .dataframe thead th {\n",
              "        text-align: right;\n",
              "    }\n",
              "</style>\n",
              "<table border=\"1\" class=\"dataframe\">\n",
              "  <thead>\n",
              "    <tr style=\"text-align: right;\">\n",
              "      <th></th>\n",
              "      <th>Player Id</th>\n",
              "      <th>Name</th>\n",
              "      <th>Position</th>\n",
              "      <th>Year</th>\n",
              "      <th>Season</th>\n",
              "      <th>Week</th>\n",
              "      <th>Game Date</th>\n",
              "      <th>Home or Away</th>\n",
              "      <th>Opponent</th>\n",
              "      <th>Outcome</th>\n",
              "      <th>...</th>\n",
              "      <th>Ints</th>\n",
              "      <th>Sacks</th>\n",
              "      <th>Sacked Yards Lost</th>\n",
              "      <th>Passer Rating</th>\n",
              "      <th>Rushing Attempts</th>\n",
              "      <th>Rushing Yards</th>\n",
              "      <th>Yards Per Carry</th>\n",
              "      <th>Rushing TDs</th>\n",
              "      <th>Fumbles</th>\n",
              "      <th>Fumbles Lost</th>\n",
              "    </tr>\n",
              "  </thead>\n",
              "  <tbody>\n",
              "    <tr>\n",
              "      <th>0</th>\n",
              "      <td>jaredzabransky/2495791</td>\n",
              "      <td>Zabransky, Jared</td>\n",
              "      <td>NaN</td>\n",
              "      <td>2007</td>\n",
              "      <td>Preseason</td>\n",
              "      <td>1</td>\n",
              "      <td>08/11</td>\n",
              "      <td>Home</td>\n",
              "      <td>CHI</td>\n",
              "      <td>L</td>\n",
              "      <td>...</td>\n",
              "      <td>--</td>\n",
              "      <td>--</td>\n",
              "      <td>--</td>\n",
              "      <td>0.0</td>\n",
              "      <td>--</td>\n",
              "      <td>--</td>\n",
              "      <td>--</td>\n",
              "      <td>--</td>\n",
              "      <td>--</td>\n",
              "      <td>--</td>\n",
              "    </tr>\n",
              "    <tr>\n",
              "      <th>1</th>\n",
              "      <td>jaredzabransky/2495791</td>\n",
              "      <td>Zabransky, Jared</td>\n",
              "      <td>NaN</td>\n",
              "      <td>2007</td>\n",
              "      <td>Preseason</td>\n",
              "      <td>2</td>\n",
              "      <td>08/18</td>\n",
              "      <td>Away</td>\n",
              "      <td>ARI</td>\n",
              "      <td>W</td>\n",
              "      <td>...</td>\n",
              "      <td>0</td>\n",
              "      <td>0</td>\n",
              "      <td>0</td>\n",
              "      <td>46.9</td>\n",
              "      <td>--</td>\n",
              "      <td>--</td>\n",
              "      <td>--</td>\n",
              "      <td>--</td>\n",
              "      <td>--</td>\n",
              "      <td>--</td>\n",
              "    </tr>\n",
              "    <tr>\n",
              "      <th>2</th>\n",
              "      <td>jaredzabransky/2495791</td>\n",
              "      <td>Zabransky, Jared</td>\n",
              "      <td>NaN</td>\n",
              "      <td>2007</td>\n",
              "      <td>Preseason</td>\n",
              "      <td>3</td>\n",
              "      <td>08/25</td>\n",
              "      <td>Home</td>\n",
              "      <td>DAL</td>\n",
              "      <td>W</td>\n",
              "      <td>...</td>\n",
              "      <td>--</td>\n",
              "      <td>--</td>\n",
              "      <td>--</td>\n",
              "      <td>0.0</td>\n",
              "      <td>--</td>\n",
              "      <td>--</td>\n",
              "      <td>--</td>\n",
              "      <td>--</td>\n",
              "      <td>--</td>\n",
              "      <td>--</td>\n",
              "    </tr>\n",
              "    <tr>\n",
              "      <th>3</th>\n",
              "      <td>jaredzabransky/2495791</td>\n",
              "      <td>Zabransky, Jared</td>\n",
              "      <td>NaN</td>\n",
              "      <td>2007</td>\n",
              "      <td>Preseason</td>\n",
              "      <td>4</td>\n",
              "      <td>08/30</td>\n",
              "      <td>Away</td>\n",
              "      <td>TB</td>\n",
              "      <td>L</td>\n",
              "      <td>...</td>\n",
              "      <td>1</td>\n",
              "      <td>2</td>\n",
              "      <td>13</td>\n",
              "      <td>50.8</td>\n",
              "      <td>2</td>\n",
              "      <td>17</td>\n",
              "      <td>8.5</td>\n",
              "      <td>0</td>\n",
              "      <td>--</td>\n",
              "      <td>--</td>\n",
              "    </tr>\n",
              "    <tr>\n",
              "      <th>4</th>\n",
              "      <td>billdemory/2512778</td>\n",
              "      <td>Demory, Bill</td>\n",
              "      <td>NaN</td>\n",
              "      <td>1974</td>\n",
              "      <td>Regular Season</td>\n",
              "      <td>1</td>\n",
              "      <td>09/15</td>\n",
              "      <td>Away</td>\n",
              "      <td>KC</td>\n",
              "      <td>L</td>\n",
              "      <td>...</td>\n",
              "      <td>--</td>\n",
              "      <td>--</td>\n",
              "      <td>--</td>\n",
              "      <td>0.0</td>\n",
              "      <td>--</td>\n",
              "      <td>--</td>\n",
              "      <td>--</td>\n",
              "      <td>--</td>\n",
              "      <td>--</td>\n",
              "      <td>--</td>\n",
              "    </tr>\n",
              "    <tr>\n",
              "      <th>...</th>\n",
              "      <td>...</td>\n",
              "      <td>...</td>\n",
              "      <td>...</td>\n",
              "      <td>...</td>\n",
              "      <td>...</td>\n",
              "      <td>...</td>\n",
              "      <td>...</td>\n",
              "      <td>...</td>\n",
              "      <td>...</td>\n",
              "      <td>...</td>\n",
              "      <td>...</td>\n",
              "      <td>...</td>\n",
              "      <td>...</td>\n",
              "      <td>...</td>\n",
              "      <td>...</td>\n",
              "      <td>...</td>\n",
              "      <td>...</td>\n",
              "      <td>...</td>\n",
              "      <td>...</td>\n",
              "      <td>...</td>\n",
              "      <td>...</td>\n",
              "    </tr>\n",
              "    <tr>\n",
              "      <th>40242</th>\n",
              "      <td>steveramsey/2523725</td>\n",
              "      <td>Ramsey, Steve</td>\n",
              "      <td>NaN</td>\n",
              "      <td>1971</td>\n",
              "      <td>Regular Season</td>\n",
              "      <td>12</td>\n",
              "      <td>12/05</td>\n",
              "      <td>Home</td>\n",
              "      <td>CHI</td>\n",
              "      <td>W</td>\n",
              "      <td>...</td>\n",
              "      <td>2</td>\n",
              "      <td>3</td>\n",
              "      <td>27</td>\n",
              "      <td>25.3</td>\n",
              "      <td>2</td>\n",
              "      <td>0</td>\n",
              "      <td>0.0</td>\n",
              "      <td>0</td>\n",
              "      <td>--</td>\n",
              "      <td>--</td>\n",
              "    </tr>\n",
              "    <tr>\n",
              "      <th>40243</th>\n",
              "      <td>steveramsey/2523725</td>\n",
              "      <td>Ramsey, Steve</td>\n",
              "      <td>NaN</td>\n",
              "      <td>1971</td>\n",
              "      <td>Regular Season</td>\n",
              "      <td>13</td>\n",
              "      <td>12/12</td>\n",
              "      <td>Away</td>\n",
              "      <td>SD</td>\n",
              "      <td>L</td>\n",
              "      <td>...</td>\n",
              "      <td>3</td>\n",
              "      <td>1</td>\n",
              "      <td>6</td>\n",
              "      <td>37.3</td>\n",
              "      <td>--</td>\n",
              "      <td>--</td>\n",
              "      <td>--</td>\n",
              "      <td>--</td>\n",
              "      <td>--</td>\n",
              "      <td>--</td>\n",
              "    </tr>\n",
              "    <tr>\n",
              "      <th>40244</th>\n",
              "      <td>steveramsey/2523725</td>\n",
              "      <td>Ramsey, Steve</td>\n",
              "      <td>NaN</td>\n",
              "      <td>1971</td>\n",
              "      <td>Regular Season</td>\n",
              "      <td>14</td>\n",
              "      <td>12/19</td>\n",
              "      <td>Away</td>\n",
              "      <td>OAK</td>\n",
              "      <td>L</td>\n",
              "      <td>...</td>\n",
              "      <td>1</td>\n",
              "      <td>2</td>\n",
              "      <td>13</td>\n",
              "      <td>57.5</td>\n",
              "      <td>1</td>\n",
              "      <td>6</td>\n",
              "      <td>6.0</td>\n",
              "      <td>0</td>\n",
              "      <td>--</td>\n",
              "      <td>--</td>\n",
              "    </tr>\n",
              "    <tr>\n",
              "      <th>40245</th>\n",
              "      <td>steveramsey/2523725</td>\n",
              "      <td>Ramsey, Steve</td>\n",
              "      <td>NaN</td>\n",
              "      <td>1970</td>\n",
              "      <td>Regular Season</td>\n",
              "      <td>13</td>\n",
              "      <td>12/13</td>\n",
              "      <td>Home</td>\n",
              "      <td>SF</td>\n",
              "      <td>L</td>\n",
              "      <td>...</td>\n",
              "      <td>--</td>\n",
              "      <td>--</td>\n",
              "      <td>--</td>\n",
              "      <td>0.0</td>\n",
              "      <td>--</td>\n",
              "      <td>--</td>\n",
              "      <td>--</td>\n",
              "      <td>--</td>\n",
              "      <td>--</td>\n",
              "      <td>--</td>\n",
              "    </tr>\n",
              "    <tr>\n",
              "      <th>40246</th>\n",
              "      <td>steveramsey/2523725</td>\n",
              "      <td>Ramsey, Steve</td>\n",
              "      <td>NaN</td>\n",
              "      <td>1970</td>\n",
              "      <td>Regular Season</td>\n",
              "      <td>14</td>\n",
              "      <td>12/20</td>\n",
              "      <td>Home</td>\n",
              "      <td>CHI</td>\n",
              "      <td>L</td>\n",
              "      <td>...</td>\n",
              "      <td>0</td>\n",
              "      <td>0</td>\n",
              "      <td>0</td>\n",
              "      <td>39.6</td>\n",
              "      <td>--</td>\n",
              "      <td>--</td>\n",
              "      <td>--</td>\n",
              "      <td>--</td>\n",
              "      <td>--</td>\n",
              "      <td>--</td>\n",
              "    </tr>\n",
              "  </tbody>\n",
              "</table>\n",
              "<p>40247 rows × 29 columns</p>\n",
              "</div>\n",
              "      <button class=\"colab-df-convert\" onclick=\"convertToInteractive('df-0c51407d-7974-4d22-b238-95f88a3e32aa')\"\n",
              "              title=\"Convert this dataframe to an interactive table.\"\n",
              "              style=\"display:none;\">\n",
              "        \n",
              "  <svg xmlns=\"http://www.w3.org/2000/svg\" height=\"24px\"viewBox=\"0 0 24 24\"\n",
              "       width=\"24px\">\n",
              "    <path d=\"M0 0h24v24H0V0z\" fill=\"none\"/>\n",
              "    <path d=\"M18.56 5.44l.94 2.06.94-2.06 2.06-.94-2.06-.94-.94-2.06-.94 2.06-2.06.94zm-11 1L8.5 8.5l.94-2.06 2.06-.94-2.06-.94L8.5 2.5l-.94 2.06-2.06.94zm10 10l.94 2.06.94-2.06 2.06-.94-2.06-.94-.94-2.06-.94 2.06-2.06.94z\"/><path d=\"M17.41 7.96l-1.37-1.37c-.4-.4-.92-.59-1.43-.59-.52 0-1.04.2-1.43.59L10.3 9.45l-7.72 7.72c-.78.78-.78 2.05 0 2.83L4 21.41c.39.39.9.59 1.41.59.51 0 1.02-.2 1.41-.59l7.78-7.78 2.81-2.81c.8-.78.8-2.07 0-2.86zM5.41 20L4 18.59l7.72-7.72 1.47 1.35L5.41 20z\"/>\n",
              "  </svg>\n",
              "      </button>\n",
              "      \n",
              "  <style>\n",
              "    .colab-df-container {\n",
              "      display:flex;\n",
              "      flex-wrap:wrap;\n",
              "      gap: 12px;\n",
              "    }\n",
              "\n",
              "    .colab-df-convert {\n",
              "      background-color: #E8F0FE;\n",
              "      border: none;\n",
              "      border-radius: 50%;\n",
              "      cursor: pointer;\n",
              "      display: none;\n",
              "      fill: #1967D2;\n",
              "      height: 32px;\n",
              "      padding: 0 0 0 0;\n",
              "      width: 32px;\n",
              "    }\n",
              "\n",
              "    .colab-df-convert:hover {\n",
              "      background-color: #E2EBFA;\n",
              "      box-shadow: 0px 1px 2px rgba(60, 64, 67, 0.3), 0px 1px 3px 1px rgba(60, 64, 67, 0.15);\n",
              "      fill: #174EA6;\n",
              "    }\n",
              "\n",
              "    [theme=dark] .colab-df-convert {\n",
              "      background-color: #3B4455;\n",
              "      fill: #D2E3FC;\n",
              "    }\n",
              "\n",
              "    [theme=dark] .colab-df-convert:hover {\n",
              "      background-color: #434B5C;\n",
              "      box-shadow: 0px 1px 3px 1px rgba(0, 0, 0, 0.15);\n",
              "      filter: drop-shadow(0px 1px 2px rgba(0, 0, 0, 0.3));\n",
              "      fill: #FFFFFF;\n",
              "    }\n",
              "  </style>\n",
              "\n",
              "      <script>\n",
              "        const buttonEl =\n",
              "          document.querySelector('#df-0c51407d-7974-4d22-b238-95f88a3e32aa button.colab-df-convert');\n",
              "        buttonEl.style.display =\n",
              "          google.colab.kernel.accessAllowed ? 'block' : 'none';\n",
              "\n",
              "        async function convertToInteractive(key) {\n",
              "          const element = document.querySelector('#df-0c51407d-7974-4d22-b238-95f88a3e32aa');\n",
              "          const dataTable =\n",
              "            await google.colab.kernel.invokeFunction('convertToInteractive',\n",
              "                                                     [key], {});\n",
              "          if (!dataTable) return;\n",
              "\n",
              "          const docLinkHtml = 'Like what you see? Visit the ' +\n",
              "            '<a target=\"_blank\" href=https://colab.research.google.com/notebooks/data_table.ipynb>data table notebook</a>'\n",
              "            + ' to learn more about interactive tables.';\n",
              "          element.innerHTML = '';\n",
              "          dataTable['output_type'] = 'display_data';\n",
              "          await google.colab.output.renderOutput(dataTable, element);\n",
              "          const docLink = document.createElement('div');\n",
              "          docLink.innerHTML = docLinkHtml;\n",
              "          element.appendChild(docLink);\n",
              "        }\n",
              "      </script>\n",
              "    </div>\n",
              "  </div>\n",
              "  "
            ]
          },
          "metadata": {},
          "execution_count": 64
        }
      ]
    },
    {
      "cell_type": "code",
      "source": [
        "agent = create_pandas_dataframe_agent(\n",
        "    OpenAI(temperature=0),\n",
        "    game_logs_df,\n",
        "    verbose=True\n",
        ")"
      ],
      "metadata": {
        "id": "SgxMfROOb3PS"
      },
      "execution_count": 51,
      "outputs": []
    },
    {
      "cell_type": "code",
      "source": [
        "len(game_logs_df['Name'].unique())"
      ],
      "metadata": {
        "colab": {
          "base_uri": "https://localhost:8080/"
        },
        "id": "cHXT2YBOcDMS",
        "outputId": "f9d5de1c-c93b-4cb9-e2a4-9043f7810218"
      },
      "execution_count": 58,
      "outputs": [
        {
          "output_type": "execute_result",
          "data": {
            "text/plain": [
              "517"
            ]
          },
          "metadata": {},
          "execution_count": 58
        }
      ]
    },
    {
      "cell_type": "code",
      "source": [
        "agent.run(\"Filter the dataset and only show me Michael Vick's data.  Store this into a new dataframe called mv_df\")"
      ],
      "metadata": {
        "colab": {
          "base_uri": "https://localhost:8080/",
          "height": 226
        },
        "id": "W2wcxODPb9V-",
        "outputId": "0ab51617-5fbb-4360-f47e-b54350273b15"
      },
      "execution_count": 59,
      "outputs": [
        {
          "output_type": "stream",
          "name": "stdout",
          "text": [
            "\n",
            "\n",
            "\u001b[1m> Entering new  chain...\u001b[0m\n",
            "\u001b[32;1m\u001b[1;3mThought: I need to filter the dataframe to only show Michael Vick's data\n",
            "Action: python_repl_ast\n",
            "Action Input: mv_df = df[df['Name'] == 'Vick, Michael']\u001b[0m\n",
            "Observation: \u001b[36;1m\u001b[1;3m\u001b[0m\n",
            "Thought:\u001b[32;1m\u001b[1;3m I now have a new dataframe with only Michael Vick's data\n",
            "Final Answer: mv_df is a new dataframe with only Michael Vick's data.\u001b[0m\n",
            "\n",
            "\u001b[1m> Finished chain.\u001b[0m\n"
          ]
        },
        {
          "output_type": "execute_result",
          "data": {
            "text/plain": [
              "\"mv_df is a new dataframe with only Michael Vick's data.\""
            ],
            "application/vnd.google.colaboratory.intrinsic+json": {
              "type": "string"
            }
          },
          "metadata": {},
          "execution_count": 59
        }
      ]
    },
    {
      "cell_type": "code",
      "source": [
        "mv_df"
      ],
      "metadata": {
        "colab": {
          "base_uri": "https://localhost:8080/",
          "height": 165
        },
        "id": "FnH0SJgfcfqY",
        "outputId": "83b20dc1-982c-4af4-f23b-873257b8d6ad"
      },
      "execution_count": 60,
      "outputs": [
        {
          "output_type": "error",
          "ename": "NameError",
          "evalue": "ignored",
          "traceback": [
            "\u001b[0;31m---------------------------------------------------------------------------\u001b[0m",
            "\u001b[0;31mNameError\u001b[0m                                 Traceback (most recent call last)",
            "\u001b[0;32m<ipython-input-60-864f5466219a>\u001b[0m in \u001b[0;36m<cell line: 1>\u001b[0;34m()\u001b[0m\n\u001b[0;32m----> 1\u001b[0;31m \u001b[0mmv_df\u001b[0m\u001b[0;34m\u001b[0m\u001b[0;34m\u001b[0m\u001b[0m\n\u001b[0m",
            "\u001b[0;31mNameError\u001b[0m: name 'mv_df' is not defined"
          ]
        }
      ]
    },
    {
      "cell_type": "markdown",
      "source": [
        "Looks like the agent is only allowed to do the analyses on the scope of the dataset and now allowed to do anything else other than that. For example, on the code above, even though I specified to create a new dataframe called `mv_df`, from the logs it seems as if it did, however it actually did not."
      ],
      "metadata": {
        "id": "BsiHb_X0ciFd"
      }
    },
    {
      "cell_type": "markdown",
      "source": [
        "## Cross Pollinating Datasets\n",
        "\n",
        "Let's try to create an agent that can run analysis on both of the datasets and then observe what kind of operations we can perform on it"
      ],
      "metadata": {
        "id": "ebAfx3MNc0OI"
      }
    },
    {
      "cell_type": "code",
      "source": [
        "agent = create_pandas_dataframe_agent(\n",
        "    OpenAI(temperature=0),\n",
        "    [df, game_logs_df],\n",
        "    verbose=True\n",
        ")"
      ],
      "metadata": {
        "id": "tUnv2wkRdS1b"
      },
      "execution_count": 61,
      "outputs": []
    },
    {
      "cell_type": "code",
      "source": [
        "agent.run(\"Is Michael Vick in the df dataset\")"
      ],
      "metadata": {
        "colab": {
          "base_uri": "https://localhost:8080/",
          "height": 420
        },
        "id": "H1IqklnkdVyF",
        "outputId": "719020ee-3c5f-4fa3-c201-0202e5dbc000"
      },
      "execution_count": 62,
      "outputs": [
        {
          "output_type": "stream",
          "name": "stdout",
          "text": [
            "\n",
            "\n",
            "\u001b[1m> Entering new  chain...\u001b[0m\n",
            "\u001b[32;1m\u001b[1;3mThought: I need to find out if Michael Vick is in the dataset\n",
            "Action: python_repl_ast\n",
            "Action Input: df1[df1['Name'] == 'Vick, Michael']\u001b[0m\n",
            "Observation: \u001b[36;1m\u001b[1;3mEmpty DataFrame\n",
            "Columns: [Age, Birth Place, Birthday, College, Current Status, Current Team, Experience, Height (inches), High School, High School Location, Name, Number, Player Id, Position, Weight (lbs), Years Played]\n",
            "Index: []\u001b[0m\n",
            "Thought:\u001b[32;1m\u001b[1;3m I need to check the second dataset\n",
            "Action: python_repl_ast\n",
            "Action Input: df2[df2['Name'] == 'Vick, Michael']\u001b[0m\n",
            "Observation: \u001b[36;1m\u001b[1;3mEmpty DataFrame\n",
            "Columns: [Player Id, Name, Position, Year, Season, Week, Game Date, Home or Away, Opponent, Outcome, Score, Games Played, Games Started, Passes Completed, Passes Attempted, Completion Percentage, Passing Yards, Passing Yards Per Attempt, TD Passes, Ints, Sacks, Sacked Yards Lost, Passer Rating, Rushing Attempts, Rushing Yards, Yards Per Carry, Rushing TDs, Fumbles, Fumbles Lost]\n",
            "Index: []\n",
            "\n",
            "[0 rows x 29 columns]\u001b[0m\n",
            "Thought:\u001b[32;1m\u001b[1;3m Michael Vick is not in the dataset\n",
            "Final Answer: No, Michael Vick is not in the dataset.\u001b[0m\n",
            "\n",
            "\u001b[1m> Finished chain.\u001b[0m\n"
          ]
        },
        {
          "output_type": "execute_result",
          "data": {
            "text/plain": [
              "'No, Michael Vick is not in the dataset.'"
            ],
            "application/vnd.google.colaboratory.intrinsic+json": {
              "type": "string"
            }
          },
          "metadata": {},
          "execution_count": 62
        }
      ]
    },
    {
      "cell_type": "code",
      "source": [
        "agent.run(\"Cross reference to see if there is a player on both the dataframes\")"
      ],
      "metadata": {
        "colab": {
          "base_uri": "https://localhost:8080/",
          "height": 417
        },
        "id": "nVoLQG2YdZLM",
        "outputId": "848d35b7-6091-4fb8-c356-ae1697aa9bb8"
      },
      "execution_count": 63,
      "outputs": [
        {
          "output_type": "stream",
          "name": "stdout",
          "text": [
            "\n",
            "\n",
            "\u001b[1m> Entering new  chain...\u001b[0m\n",
            "\u001b[32;1m\u001b[1;3mThought: I need to compare the Player Ids\n",
            "Action: python_repl_ast\n",
            "Action Input: df1['Player Id'].isin(df2['Player Id'])\u001b[0m\n",
            "Observation: \u001b[36;1m\u001b[1;3m0        False\n",
            "1        False\n",
            "2        False\n",
            "3        False\n",
            "4        False\n",
            "         ...  \n",
            "17167    False\n",
            "17168    False\n",
            "17169    False\n",
            "17170    False\n",
            "17171    False\n",
            "Name: Player Id, Length: 17172, dtype: bool\u001b[0m\n",
            "Thought:\u001b[32;1m\u001b[1;3m I now know the final answer\n",
            "Final Answer: No, there is no player on both dataframes.\u001b[0m\n",
            "\n",
            "\u001b[1m> Finished chain.\u001b[0m\n"
          ]
        },
        {
          "output_type": "execute_result",
          "data": {
            "text/plain": [
              "'No, there is no player on both dataframes.'"
            ],
            "application/vnd.google.colaboratory.intrinsic+json": {
              "type": "string"
            }
          },
          "metadata": {},
          "execution_count": 63
        }
      ]
    },
    {
      "cell_type": "code",
      "source": [
        "agent.run(\"how many wins did mike vick have in his career?\")"
      ],
      "metadata": {
        "colab": {
          "base_uri": "https://localhost:8080/",
          "height": 348
        },
        "id": "um_qN9cTdift",
        "outputId": "fc887be9-5ed9-42af-fdf5-461f02a5750e"
      },
      "execution_count": 68,
      "outputs": [
        {
          "output_type": "stream",
          "name": "stdout",
          "text": [
            "\n",
            "\n",
            "\u001b[1m> Entering new  chain...\u001b[0m\n",
            "\u001b[32;1m\u001b[1;3mThought: I need to find out how many games Mike Vick played and how many of those he won\n",
            "Action: python_repl_ast\n",
            "Action Input: df1[df1['Name'] == 'Vick, Mike']['Outcome'].value_counts()\u001b[0m\n",
            "Observation: \u001b[36;1m\u001b[1;3mKeyError: 'Outcome'\u001b[0m\n",
            "Thought:\u001b[32;1m\u001b[1;3m I need to look at the other dataframe\n",
            "Action: python_repl_ast\n",
            "Action Input: df2[df2['Name'] == 'Vick, Mike']['Outcome'].value_counts()\u001b[0m\n",
            "Observation: \u001b[36;1m\u001b[1;3mL    127\n",
            "W    126\n",
            "T      1\n",
            "Name: Outcome, dtype: int64\u001b[0m\n",
            "Thought:\u001b[32;1m\u001b[1;3m I now know the final answer\n",
            "Final Answer: Mike Vick had 126 wins in his career.\u001b[0m\n",
            "\n",
            "\u001b[1m> Finished chain.\u001b[0m\n"
          ]
        },
        {
          "output_type": "execute_result",
          "data": {
            "text/plain": [
              "'Mike Vick had 126 wins in his career.'"
            ],
            "application/vnd.google.colaboratory.intrinsic+json": {
              "type": "string"
            }
          },
          "metadata": {},
          "execution_count": 68
        }
      ]
    },
    {
      "cell_type": "code",
      "source": [
        "agent.run(\"count the number of wins that mike vick has\")"
      ],
      "metadata": {
        "colab": {
          "base_uri": "https://localhost:8080/",
          "height": 1000
        },
        "id": "ZxlK4gBKgkSH",
        "outputId": "770f4112-f02e-417b-a37f-59e270a75e7f"
      },
      "execution_count": 72,
      "outputs": [
        {
          "output_type": "stream",
          "name": "stdout",
          "text": [
            "\n",
            "\n",
            "\u001b[1m> Entering new  chain...\u001b[0m\n",
            "\u001b[32;1m\u001b[1;3mThought: I need to find out which player is Mike Vick and then count the number of wins\n",
            "Action: python_repl_ast\n",
            "Action Input: df[df['Name'] == 'Vick, Mike']\u001b[0m\n",
            "Observation: \u001b[36;1m\u001b[1;3mNameError: name 'df' is not defined\u001b[0m\n",
            "Thought:\u001b[32;1m\u001b[1;3m I need to define the dataframe\n",
            "Action: python_repl_ast\n",
            "Action Input: df1[df1['Name'] == 'Vick, Mike']\u001b[0m\n",
            "Observation: \u001b[36;1m\u001b[1;3m        Age        Birth Place   Birthday        College Current Status  \\\n",
            "16031  36.0  Newport News , VA  6/26/1980  Virginia Tech        Retired   \n",
            "\n",
            "      Current Team  Experience  Height (inches) High School  \\\n",
            "16031          NaN  15 Seasons             72.0         NaN   \n",
            "\n",
            "      High School Location        Name  Number         Player Id Position  \\\n",
            "16031                  NaN  Vick, Mike     NaN  mikevick/2504531      NaN   \n",
            "\n",
            "       Weight (lbs) Years Played  \n",
            "16031         210.0  2001 - 2015  \u001b[0m\n",
            "Thought:\u001b[32;1m\u001b[1;3m I need to filter the dataframe to only include wins\n",
            "Action: python_repl_ast\n",
            "Action Input: df1[(df1['Name'] == 'Vick, Mike') & (df1['Outcome'] == 'W')]\u001b[0m\n",
            "Observation: \u001b[36;1m\u001b[1;3mKeyError: 'Outcome'\u001b[0m\n",
            "Thought:\u001b[32;1m\u001b[1;3m I need to use the other dataframe\n",
            "Action: python_repl_ast\n",
            "Action Input: df2[(df2['Name'] == 'Vick, Mike') & (df2['Outcome'] == 'W')]\u001b[0m\n",
            "Observation: \u001b[36;1m\u001b[1;3m              Player Id        Name Position  Year          Season  Week  \\\n",
            "36275  mikevick/2504531  Vick, Mike      NaN  2015  Regular Season     2   \n",
            "36276  mikevick/2504531  Vick, Mike      NaN  2015  Regular Season     3   \n",
            "36278  mikevick/2504531  Vick, Mike      NaN  2015  Regular Season     5   \n",
            "36279  mikevick/2504531  Vick, Mike      NaN  2015  Regular Season     6   \n",
            "36282  mikevick/2504531  Vick, Mike      NaN  2015  Regular Season     9   \n",
            "...                 ...         ...      ...   ...             ...   ...   \n",
            "36515  mikevick/2504531  Vick, Mike      NaN  2001  Regular Season     6   \n",
            "36517  mikevick/2504531  Vick, Mike      NaN  2001  Regular Season     9   \n",
            "36518  mikevick/2504531  Vick, Mike      NaN  2001  Regular Season    10   \n",
            "36519  mikevick/2504531  Vick, Mike      NaN  2001  Regular Season    11   \n",
            "36523  mikevick/2504531  Vick, Mike      NaN  2001  Regular Season    15   \n",
            "\n",
            "      Game Date Home or Away Opponent Outcome  ... Ints  Sacks  \\\n",
            "36275     09/20         Home       SF       W  ...   --     --   \n",
            "36276     09/27         Away      STL       W  ...    0      2   \n",
            "36278     10/12         Away       SD       W  ...    1      3   \n",
            "36279     10/18         Home      ARI       W  ...    0      1   \n",
            "36282     11/08         Home      OAK       W  ...   --     --   \n",
            "...         ...          ...      ...     ...  ...  ...    ...   \n",
            "36515     10/21         Away       NO       W  ...   --     --   \n",
            "36517     11/11         Home      DAL       W  ...    0      2   \n",
            "36518     11/18         Away       GB       W  ...   --     --   \n",
            "36519     11/25         Away      CAR       W  ...   --     --   \n",
            "36523     12/23         Home      BUF       W  ...   --     --   \n",
            "\n",
            "      Sacked Yards Lost Passer Rating Rushing Attempts Rushing Yards  \\\n",
            "36275                --           0.0                3            -3   \n",
            "36276                11          93.1                2            -2   \n",
            "36278                 9          73.1                1            24   \n",
            "36279                 5          45.8                5            47   \n",
            "36282                --           0.0               --            --   \n",
            "...                 ...           ...              ...           ...   \n",
            "36515                --           0.0               --            --   \n",
            "36517                 5          70.1                2             4   \n",
            "36518                --           0.0               --            --   \n",
            "36519                --           0.0               --            --   \n",
            "36523                --           0.0               --            --   \n",
            "\n",
            "      Yards Per Carry Rushing TDs Fumbles Fumbles Lost  \n",
            "36275            -1.0           0      --           --  \n",
            "36276            -1.0           0       1            0  \n",
            "36278            24.0           0      --           --  \n",
            "36279             9.4           0      --           --  \n",
            "36282              --          --      --           --  \n",
            "...               ...         ...     ...          ...  \n",
            "36515              --          --      --           --  \n",
            "36517             2.0           0       1            1  \n",
            "36518              --          --      --           --  \n",
            "36519              --          --      --           --  \n",
            "36523              --          --      --           --  \n",
            "\n",
            "[126 rows x 29 columns]\u001b[0m\n",
            "Thought:\u001b[32;1m\u001b[1;3m I need to count the number of rows\n",
            "Action: python_repl_ast\n",
            "Action Input: df2[(df2['Name'] == 'Vick, Mike') & (df2['Outcome'] == 'W')].shape[0]\u001b[0m\n",
            "Observation: \u001b[36;1m\u001b[1;3m126\u001b[0m\n",
            "Thought:\u001b[32;1m\u001b[1;3m I now know the final answer\n",
            "Final Answer: Mike Vick has 126 wins.\u001b[0m\n",
            "\n",
            "\u001b[1m> Finished chain.\u001b[0m\n"
          ]
        },
        {
          "output_type": "execute_result",
          "data": {
            "text/plain": [
              "'Mike Vick has 126 wins.'"
            ],
            "application/vnd.google.colaboratory.intrinsic+json": {
              "type": "string"
            }
          },
          "metadata": {},
          "execution_count": 72
        }
      ]
    },
    {
      "cell_type": "code",
      "source": [
        "agent.run(\"how many times out of those 126 games, did he lose the fumble\")"
      ],
      "metadata": {
        "colab": {
          "base_uri": "https://localhost:8080/",
          "height": 435
        },
        "id": "gIIX1xD0iKWr",
        "outputId": "1c328116-2aeb-4418-9a9f-4f422fc7d910"
      },
      "execution_count": 78,
      "outputs": [
        {
          "output_type": "stream",
          "name": "stdout",
          "text": [
            "\n",
            "\n",
            "\u001b[1m> Entering new  chain...\u001b[0m\n",
            "\u001b[32;1m\u001b[1;3mThought: I need to find out how many times he fumbled and how many times he lost the fumble\n",
            "Action: python_repl_ast\n",
            "Action Input: df1[df1['Fumbles'] > 0]['Fumbles Lost'].sum()\u001b[0m\n",
            "Observation: \u001b[36;1m\u001b[1;3mKeyError: 'Fumbles'\u001b[0m\n",
            "Thought:\u001b[32;1m\u001b[1;3m I need to look at the other dataframe\n",
            "Action: python_repl_ast\n",
            "Action Input: df2[df2['Fumbles'] > 0]['Fumbles Lost'].sum()\u001b[0m\n",
            "Observation: \u001b[36;1m\u001b[1;3mTypeError: '>' not supported between instances of 'str' and 'int'\u001b[0m\n",
            "Thought:\u001b[32;1m\u001b[1;3m I need to convert the Fumbles column to int\n",
            "Action: python_repl_ast\n",
            "Action Input: df2['Fumbles'] = df2['Fumbles'].astype(int)\u001b[0m\n",
            "Observation: \u001b[36;1m\u001b[1;3m\u001b[0m\n",
            "Thought:\u001b[32;1m\u001b[1;3m Now I can find the sum of Fumbles Lost\n",
            "Action: python_repl_ast\n",
            "Action Input: df2[df2['Fumbles'] > 0]['Fumbles Lost'].sum()\u001b[0m\n",
            "Observation: \u001b[36;1m\u001b[1;3m2475\u001b[0m\n",
            "Thought:\u001b[32;1m\u001b[1;3m I now know the final answer\n",
            "Final Answer: 2475 times out of those 126 games, he lost the fumble.\u001b[0m\n",
            "\n",
            "\u001b[1m> Finished chain.\u001b[0m\n"
          ]
        },
        {
          "output_type": "execute_result",
          "data": {
            "text/plain": [
              "'2475 times out of those 126 games, he lost the fumble.'"
            ],
            "application/vnd.google.colaboratory.intrinsic+json": {
              "type": "string"
            }
          },
          "metadata": {},
          "execution_count": 78
        }
      ]
    },
    {
      "cell_type": "code",
      "source": [
        "W_df = game_logs_df[game_logs_df['Outcome'] == 'W']\n",
        "W_df[W_df['Name']==\"Vick, Mike\"]"
      ],
      "metadata": {
        "colab": {
          "base_uri": "https://localhost:8080/",
          "height": 658
        },
        "id": "N5CT3-hxlIGW",
        "outputId": "ae0735b7-e545-46dd-f96a-a47b18ebac45"
      },
      "execution_count": 95,
      "outputs": [
        {
          "output_type": "execute_result",
          "data": {
            "text/plain": [
              "              Player Id        Name Position  Year          Season  Week  \\\n",
              "36275  mikevick/2504531  Vick, Mike      NaN  2015  Regular Season     2   \n",
              "36276  mikevick/2504531  Vick, Mike      NaN  2015  Regular Season     3   \n",
              "36278  mikevick/2504531  Vick, Mike      NaN  2015  Regular Season     5   \n",
              "36279  mikevick/2504531  Vick, Mike      NaN  2015  Regular Season     6   \n",
              "36282  mikevick/2504531  Vick, Mike      NaN  2015  Regular Season     9   \n",
              "...                 ...         ...      ...   ...             ...   ...   \n",
              "36515  mikevick/2504531  Vick, Mike      NaN  2001  Regular Season     6   \n",
              "36517  mikevick/2504531  Vick, Mike      NaN  2001  Regular Season     9   \n",
              "36518  mikevick/2504531  Vick, Mike      NaN  2001  Regular Season    10   \n",
              "36519  mikevick/2504531  Vick, Mike      NaN  2001  Regular Season    11   \n",
              "36523  mikevick/2504531  Vick, Mike      NaN  2001  Regular Season    15   \n",
              "\n",
              "      Game Date Home or Away Opponent Outcome  ... Ints  Sacks  \\\n",
              "36275     09/20         Home       SF       W  ...   --     --   \n",
              "36276     09/27         Away      STL       W  ...    0      2   \n",
              "36278     10/12         Away       SD       W  ...    1      3   \n",
              "36279     10/18         Home      ARI       W  ...    0      1   \n",
              "36282     11/08         Home      OAK       W  ...   --     --   \n",
              "...         ...          ...      ...     ...  ...  ...    ...   \n",
              "36515     10/21         Away       NO       W  ...   --     --   \n",
              "36517     11/11         Home      DAL       W  ...    0      2   \n",
              "36518     11/18         Away       GB       W  ...   --     --   \n",
              "36519     11/25         Away      CAR       W  ...   --     --   \n",
              "36523     12/23         Home      BUF       W  ...   --     --   \n",
              "\n",
              "      Sacked Yards Lost Passer Rating Rushing Attempts Rushing Yards  \\\n",
              "36275                --           0.0                3            -3   \n",
              "36276                11          93.1                2            -2   \n",
              "36278                 9          73.1                1            24   \n",
              "36279                 5          45.8                5            47   \n",
              "36282                --           0.0               --            --   \n",
              "...                 ...           ...              ...           ...   \n",
              "36515                --           0.0               --            --   \n",
              "36517                 5          70.1                2             4   \n",
              "36518                --           0.0               --            --   \n",
              "36519                --           0.0               --            --   \n",
              "36523                --           0.0               --            --   \n",
              "\n",
              "      Yards Per Carry Rushing TDs Fumbles Fumbles Lost  \n",
              "36275            -1.0           0       0            0  \n",
              "36276            -1.0           0       1            0  \n",
              "36278            24.0           0       0            0  \n",
              "36279             9.4           0       0            0  \n",
              "36282              --          --       0            0  \n",
              "...               ...         ...     ...          ...  \n",
              "36515              --          --       0            0  \n",
              "36517             2.0           0       1            1  \n",
              "36518              --          --       0            0  \n",
              "36519              --          --       0            0  \n",
              "36523              --          --       0            0  \n",
              "\n",
              "[126 rows x 29 columns]"
            ],
            "text/html": [
              "\n",
              "  <div id=\"df-abda152e-514d-4e88-aaa3-b2d5d3029575\">\n",
              "    <div class=\"colab-df-container\">\n",
              "      <div>\n",
              "<style scoped>\n",
              "    .dataframe tbody tr th:only-of-type {\n",
              "        vertical-align: middle;\n",
              "    }\n",
              "\n",
              "    .dataframe tbody tr th {\n",
              "        vertical-align: top;\n",
              "    }\n",
              "\n",
              "    .dataframe thead th {\n",
              "        text-align: right;\n",
              "    }\n",
              "</style>\n",
              "<table border=\"1\" class=\"dataframe\">\n",
              "  <thead>\n",
              "    <tr style=\"text-align: right;\">\n",
              "      <th></th>\n",
              "      <th>Player Id</th>\n",
              "      <th>Name</th>\n",
              "      <th>Position</th>\n",
              "      <th>Year</th>\n",
              "      <th>Season</th>\n",
              "      <th>Week</th>\n",
              "      <th>Game Date</th>\n",
              "      <th>Home or Away</th>\n",
              "      <th>Opponent</th>\n",
              "      <th>Outcome</th>\n",
              "      <th>...</th>\n",
              "      <th>Ints</th>\n",
              "      <th>Sacks</th>\n",
              "      <th>Sacked Yards Lost</th>\n",
              "      <th>Passer Rating</th>\n",
              "      <th>Rushing Attempts</th>\n",
              "      <th>Rushing Yards</th>\n",
              "      <th>Yards Per Carry</th>\n",
              "      <th>Rushing TDs</th>\n",
              "      <th>Fumbles</th>\n",
              "      <th>Fumbles Lost</th>\n",
              "    </tr>\n",
              "  </thead>\n",
              "  <tbody>\n",
              "    <tr>\n",
              "      <th>36275</th>\n",
              "      <td>mikevick/2504531</td>\n",
              "      <td>Vick, Mike</td>\n",
              "      <td>NaN</td>\n",
              "      <td>2015</td>\n",
              "      <td>Regular Season</td>\n",
              "      <td>2</td>\n",
              "      <td>09/20</td>\n",
              "      <td>Home</td>\n",
              "      <td>SF</td>\n",
              "      <td>W</td>\n",
              "      <td>...</td>\n",
              "      <td>--</td>\n",
              "      <td>--</td>\n",
              "      <td>--</td>\n",
              "      <td>0.0</td>\n",
              "      <td>3</td>\n",
              "      <td>-3</td>\n",
              "      <td>-1.0</td>\n",
              "      <td>0</td>\n",
              "      <td>0</td>\n",
              "      <td>0</td>\n",
              "    </tr>\n",
              "    <tr>\n",
              "      <th>36276</th>\n",
              "      <td>mikevick/2504531</td>\n",
              "      <td>Vick, Mike</td>\n",
              "      <td>NaN</td>\n",
              "      <td>2015</td>\n",
              "      <td>Regular Season</td>\n",
              "      <td>3</td>\n",
              "      <td>09/27</td>\n",
              "      <td>Away</td>\n",
              "      <td>STL</td>\n",
              "      <td>W</td>\n",
              "      <td>...</td>\n",
              "      <td>0</td>\n",
              "      <td>2</td>\n",
              "      <td>11</td>\n",
              "      <td>93.1</td>\n",
              "      <td>2</td>\n",
              "      <td>-2</td>\n",
              "      <td>-1.0</td>\n",
              "      <td>0</td>\n",
              "      <td>1</td>\n",
              "      <td>0</td>\n",
              "    </tr>\n",
              "    <tr>\n",
              "      <th>36278</th>\n",
              "      <td>mikevick/2504531</td>\n",
              "      <td>Vick, Mike</td>\n",
              "      <td>NaN</td>\n",
              "      <td>2015</td>\n",
              "      <td>Regular Season</td>\n",
              "      <td>5</td>\n",
              "      <td>10/12</td>\n",
              "      <td>Away</td>\n",
              "      <td>SD</td>\n",
              "      <td>W</td>\n",
              "      <td>...</td>\n",
              "      <td>1</td>\n",
              "      <td>3</td>\n",
              "      <td>9</td>\n",
              "      <td>73.1</td>\n",
              "      <td>1</td>\n",
              "      <td>24</td>\n",
              "      <td>24.0</td>\n",
              "      <td>0</td>\n",
              "      <td>0</td>\n",
              "      <td>0</td>\n",
              "    </tr>\n",
              "    <tr>\n",
              "      <th>36279</th>\n",
              "      <td>mikevick/2504531</td>\n",
              "      <td>Vick, Mike</td>\n",
              "      <td>NaN</td>\n",
              "      <td>2015</td>\n",
              "      <td>Regular Season</td>\n",
              "      <td>6</td>\n",
              "      <td>10/18</td>\n",
              "      <td>Home</td>\n",
              "      <td>ARI</td>\n",
              "      <td>W</td>\n",
              "      <td>...</td>\n",
              "      <td>0</td>\n",
              "      <td>1</td>\n",
              "      <td>5</td>\n",
              "      <td>45.8</td>\n",
              "      <td>5</td>\n",
              "      <td>47</td>\n",
              "      <td>9.4</td>\n",
              "      <td>0</td>\n",
              "      <td>0</td>\n",
              "      <td>0</td>\n",
              "    </tr>\n",
              "    <tr>\n",
              "      <th>36282</th>\n",
              "      <td>mikevick/2504531</td>\n",
              "      <td>Vick, Mike</td>\n",
              "      <td>NaN</td>\n",
              "      <td>2015</td>\n",
              "      <td>Regular Season</td>\n",
              "      <td>9</td>\n",
              "      <td>11/08</td>\n",
              "      <td>Home</td>\n",
              "      <td>OAK</td>\n",
              "      <td>W</td>\n",
              "      <td>...</td>\n",
              "      <td>--</td>\n",
              "      <td>--</td>\n",
              "      <td>--</td>\n",
              "      <td>0.0</td>\n",
              "      <td>--</td>\n",
              "      <td>--</td>\n",
              "      <td>--</td>\n",
              "      <td>--</td>\n",
              "      <td>0</td>\n",
              "      <td>0</td>\n",
              "    </tr>\n",
              "    <tr>\n",
              "      <th>...</th>\n",
              "      <td>...</td>\n",
              "      <td>...</td>\n",
              "      <td>...</td>\n",
              "      <td>...</td>\n",
              "      <td>...</td>\n",
              "      <td>...</td>\n",
              "      <td>...</td>\n",
              "      <td>...</td>\n",
              "      <td>...</td>\n",
              "      <td>...</td>\n",
              "      <td>...</td>\n",
              "      <td>...</td>\n",
              "      <td>...</td>\n",
              "      <td>...</td>\n",
              "      <td>...</td>\n",
              "      <td>...</td>\n",
              "      <td>...</td>\n",
              "      <td>...</td>\n",
              "      <td>...</td>\n",
              "      <td>...</td>\n",
              "      <td>...</td>\n",
              "    </tr>\n",
              "    <tr>\n",
              "      <th>36515</th>\n",
              "      <td>mikevick/2504531</td>\n",
              "      <td>Vick, Mike</td>\n",
              "      <td>NaN</td>\n",
              "      <td>2001</td>\n",
              "      <td>Regular Season</td>\n",
              "      <td>6</td>\n",
              "      <td>10/21</td>\n",
              "      <td>Away</td>\n",
              "      <td>NO</td>\n",
              "      <td>W</td>\n",
              "      <td>...</td>\n",
              "      <td>--</td>\n",
              "      <td>--</td>\n",
              "      <td>--</td>\n",
              "      <td>0.0</td>\n",
              "      <td>--</td>\n",
              "      <td>--</td>\n",
              "      <td>--</td>\n",
              "      <td>--</td>\n",
              "      <td>0</td>\n",
              "      <td>0</td>\n",
              "    </tr>\n",
              "    <tr>\n",
              "      <th>36517</th>\n",
              "      <td>mikevick/2504531</td>\n",
              "      <td>Vick, Mike</td>\n",
              "      <td>NaN</td>\n",
              "      <td>2001</td>\n",
              "      <td>Regular Season</td>\n",
              "      <td>9</td>\n",
              "      <td>11/11</td>\n",
              "      <td>Home</td>\n",
              "      <td>DAL</td>\n",
              "      <td>W</td>\n",
              "      <td>...</td>\n",
              "      <td>0</td>\n",
              "      <td>2</td>\n",
              "      <td>5</td>\n",
              "      <td>70.1</td>\n",
              "      <td>2</td>\n",
              "      <td>4</td>\n",
              "      <td>2.0</td>\n",
              "      <td>0</td>\n",
              "      <td>1</td>\n",
              "      <td>1</td>\n",
              "    </tr>\n",
              "    <tr>\n",
              "      <th>36518</th>\n",
              "      <td>mikevick/2504531</td>\n",
              "      <td>Vick, Mike</td>\n",
              "      <td>NaN</td>\n",
              "      <td>2001</td>\n",
              "      <td>Regular Season</td>\n",
              "      <td>10</td>\n",
              "      <td>11/18</td>\n",
              "      <td>Away</td>\n",
              "      <td>GB</td>\n",
              "      <td>W</td>\n",
              "      <td>...</td>\n",
              "      <td>--</td>\n",
              "      <td>--</td>\n",
              "      <td>--</td>\n",
              "      <td>0.0</td>\n",
              "      <td>--</td>\n",
              "      <td>--</td>\n",
              "      <td>--</td>\n",
              "      <td>--</td>\n",
              "      <td>0</td>\n",
              "      <td>0</td>\n",
              "    </tr>\n",
              "    <tr>\n",
              "      <th>36519</th>\n",
              "      <td>mikevick/2504531</td>\n",
              "      <td>Vick, Mike</td>\n",
              "      <td>NaN</td>\n",
              "      <td>2001</td>\n",
              "      <td>Regular Season</td>\n",
              "      <td>11</td>\n",
              "      <td>11/25</td>\n",
              "      <td>Away</td>\n",
              "      <td>CAR</td>\n",
              "      <td>W</td>\n",
              "      <td>...</td>\n",
              "      <td>--</td>\n",
              "      <td>--</td>\n",
              "      <td>--</td>\n",
              "      <td>0.0</td>\n",
              "      <td>--</td>\n",
              "      <td>--</td>\n",
              "      <td>--</td>\n",
              "      <td>--</td>\n",
              "      <td>0</td>\n",
              "      <td>0</td>\n",
              "    </tr>\n",
              "    <tr>\n",
              "      <th>36523</th>\n",
              "      <td>mikevick/2504531</td>\n",
              "      <td>Vick, Mike</td>\n",
              "      <td>NaN</td>\n",
              "      <td>2001</td>\n",
              "      <td>Regular Season</td>\n",
              "      <td>15</td>\n",
              "      <td>12/23</td>\n",
              "      <td>Home</td>\n",
              "      <td>BUF</td>\n",
              "      <td>W</td>\n",
              "      <td>...</td>\n",
              "      <td>--</td>\n",
              "      <td>--</td>\n",
              "      <td>--</td>\n",
              "      <td>0.0</td>\n",
              "      <td>--</td>\n",
              "      <td>--</td>\n",
              "      <td>--</td>\n",
              "      <td>--</td>\n",
              "      <td>0</td>\n",
              "      <td>0</td>\n",
              "    </tr>\n",
              "  </tbody>\n",
              "</table>\n",
              "<p>126 rows × 29 columns</p>\n",
              "</div>\n",
              "      <button class=\"colab-df-convert\" onclick=\"convertToInteractive('df-abda152e-514d-4e88-aaa3-b2d5d3029575')\"\n",
              "              title=\"Convert this dataframe to an interactive table.\"\n",
              "              style=\"display:none;\">\n",
              "        \n",
              "  <svg xmlns=\"http://www.w3.org/2000/svg\" height=\"24px\"viewBox=\"0 0 24 24\"\n",
              "       width=\"24px\">\n",
              "    <path d=\"M0 0h24v24H0V0z\" fill=\"none\"/>\n",
              "    <path d=\"M18.56 5.44l.94 2.06.94-2.06 2.06-.94-2.06-.94-.94-2.06-.94 2.06-2.06.94zm-11 1L8.5 8.5l.94-2.06 2.06-.94-2.06-.94L8.5 2.5l-.94 2.06-2.06.94zm10 10l.94 2.06.94-2.06 2.06-.94-2.06-.94-.94-2.06-.94 2.06-2.06.94z\"/><path d=\"M17.41 7.96l-1.37-1.37c-.4-.4-.92-.59-1.43-.59-.52 0-1.04.2-1.43.59L10.3 9.45l-7.72 7.72c-.78.78-.78 2.05 0 2.83L4 21.41c.39.39.9.59 1.41.59.51 0 1.02-.2 1.41-.59l7.78-7.78 2.81-2.81c.8-.78.8-2.07 0-2.86zM5.41 20L4 18.59l7.72-7.72 1.47 1.35L5.41 20z\"/>\n",
              "  </svg>\n",
              "      </button>\n",
              "      \n",
              "  <style>\n",
              "    .colab-df-container {\n",
              "      display:flex;\n",
              "      flex-wrap:wrap;\n",
              "      gap: 12px;\n",
              "    }\n",
              "\n",
              "    .colab-df-convert {\n",
              "      background-color: #E8F0FE;\n",
              "      border: none;\n",
              "      border-radius: 50%;\n",
              "      cursor: pointer;\n",
              "      display: none;\n",
              "      fill: #1967D2;\n",
              "      height: 32px;\n",
              "      padding: 0 0 0 0;\n",
              "      width: 32px;\n",
              "    }\n",
              "\n",
              "    .colab-df-convert:hover {\n",
              "      background-color: #E2EBFA;\n",
              "      box-shadow: 0px 1px 2px rgba(60, 64, 67, 0.3), 0px 1px 3px 1px rgba(60, 64, 67, 0.15);\n",
              "      fill: #174EA6;\n",
              "    }\n",
              "\n",
              "    [theme=dark] .colab-df-convert {\n",
              "      background-color: #3B4455;\n",
              "      fill: #D2E3FC;\n",
              "    }\n",
              "\n",
              "    [theme=dark] .colab-df-convert:hover {\n",
              "      background-color: #434B5C;\n",
              "      box-shadow: 0px 1px 3px 1px rgba(0, 0, 0, 0.15);\n",
              "      filter: drop-shadow(0px 1px 2px rgba(0, 0, 0, 0.3));\n",
              "      fill: #FFFFFF;\n",
              "    }\n",
              "  </style>\n",
              "\n",
              "      <script>\n",
              "        const buttonEl =\n",
              "          document.querySelector('#df-abda152e-514d-4e88-aaa3-b2d5d3029575 button.colab-df-convert');\n",
              "        buttonEl.style.display =\n",
              "          google.colab.kernel.accessAllowed ? 'block' : 'none';\n",
              "\n",
              "        async function convertToInteractive(key) {\n",
              "          const element = document.querySelector('#df-abda152e-514d-4e88-aaa3-b2d5d3029575');\n",
              "          const dataTable =\n",
              "            await google.colab.kernel.invokeFunction('convertToInteractive',\n",
              "                                                     [key], {});\n",
              "          if (!dataTable) return;\n",
              "\n",
              "          const docLinkHtml = 'Like what you see? Visit the ' +\n",
              "            '<a target=\"_blank\" href=https://colab.research.google.com/notebooks/data_table.ipynb>data table notebook</a>'\n",
              "            + ' to learn more about interactive tables.';\n",
              "          element.innerHTML = '';\n",
              "          dataTable['output_type'] = 'display_data';\n",
              "          await google.colab.output.renderOutput(dataTable, element);\n",
              "          const docLink = document.createElement('div');\n",
              "          docLink.innerHTML = docLinkHtml;\n",
              "          element.appendChild(docLink);\n",
              "        }\n",
              "      </script>\n",
              "    </div>\n",
              "  </div>\n",
              "  "
            ]
          },
          "metadata": {},
          "execution_count": 95
        }
      ]
    },
    {
      "cell_type": "code",
      "source": [
        "agent.run(\"when was mike vick's last game?\")"
      ],
      "metadata": {
        "colab": {
          "base_uri": "https://localhost:8080/",
          "height": 1000
        },
        "id": "kATnzjGHlLW1",
        "outputId": "49ee5056-e077-4d27-b4ea-769939e44860"
      },
      "execution_count": 96,
      "outputs": [
        {
          "output_type": "stream",
          "name": "stdout",
          "text": [
            "\n",
            "\n",
            "\u001b[1m> Entering new  chain...\u001b[0m\n",
            "\u001b[32;1m\u001b[1;3mThought: I need to find Mike Vick's player id\n",
            "Action: python_repl_ast\n",
            "Action Input: df1[df1['Name'] == 'Vick, Mike']\u001b[0m\n",
            "Observation: \u001b[36;1m\u001b[1;3m        Age        Birth Place   Birthday        College Current Status  \\\n",
            "16031  36.0  Newport News , VA  6/26/1980  Virginia Tech        Retired   \n",
            "\n",
            "      Current Team  Experience  Height (inches) High School  \\\n",
            "16031          NaN  15 Seasons             72.0         NaN   \n",
            "\n",
            "      High School Location        Name  Number         Player Id Position  \\\n",
            "16031                  NaN  Vick, Mike     NaN  mikevick/2504531      NaN   \n",
            "\n",
            "       Weight (lbs) Years Played  \n",
            "16031         210.0  2001 - 2015  \u001b[0m\n",
            "Thought:\u001b[32;1m\u001b[1;3m I need to find Mike Vick's games\n",
            "Action: python_repl_ast\n",
            "Action Input: df2[df2['Player Id'] == 'mikevick/2504531']\u001b[0m\n",
            "Observation: \u001b[36;1m\u001b[1;3m              Player Id        Name Position  Year          Season  Week  \\\n",
            "36272  mikevick/2504531  Vick, Mike      NaN  2015       Preseason     3   \n",
            "36273  mikevick/2504531  Vick, Mike      NaN  2015       Preseason     4   \n",
            "36274  mikevick/2504531  Vick, Mike      NaN  2015  Regular Season     1   \n",
            "36275  mikevick/2504531  Vick, Mike      NaN  2015  Regular Season     2   \n",
            "36276  mikevick/2504531  Vick, Mike      NaN  2015  Regular Season     3   \n",
            "...                 ...         ...      ...   ...             ...   ...   \n",
            "36521  mikevick/2504531  Vick, Mike      NaN  2001  Regular Season    13   \n",
            "36522  mikevick/2504531  Vick, Mike      NaN  2001  Regular Season    14   \n",
            "36523  mikevick/2504531  Vick, Mike      NaN  2001  Regular Season    15   \n",
            "36524  mikevick/2504531  Vick, Mike      NaN  2001  Regular Season    16   \n",
            "36525  mikevick/2504531  Vick, Mike      NaN  2001  Regular Season    17   \n",
            "\n",
            "      Game Date Home or Away Opponent Outcome  ... Ints  Sacks  \\\n",
            "36272     08/29         Away      BUF       L  ...    0      1   \n",
            "36273     09/03         Home      CAR       L  ...    0      3   \n",
            "36274     09/10         Away       NE       L  ...   --     --   \n",
            "36275     09/20         Home       SF       W  ...   --     --   \n",
            "36276     09/27         Away      STL       W  ...    0      2   \n",
            "...         ...          ...      ...     ...  ...  ...    ...   \n",
            "36521     12/09         Home       NO       L  ...   --     --   \n",
            "36522     12/16         Away      IND       L  ...   --     --   \n",
            "36523     12/23         Home      BUF       W  ...   --     --   \n",
            "36524     12/30         Away      MIA       L  ...    2      3   \n",
            "36525     01/06         Away      STL       L  ...    1      5   \n",
            "\n",
            "      Sacked Yards Lost Passer Rating Rushing Attempts Rushing Yards  \\\n",
            "36272                 8         118.8                1             1   \n",
            "36273                20          72.1                2             5   \n",
            "36274                --           0.0               --            --   \n",
            "36275                --           0.0                3            -3   \n",
            "36276                11          93.1                2            -2   \n",
            "...                 ...           ...              ...           ...   \n",
            "36521                --           0.0               --            --   \n",
            "36522                --           0.0               --            --   \n",
            "36523                --           0.0               --            --   \n",
            "36524                21          69.6                5            63   \n",
            "36525                17          46.0                6            47   \n",
            "\n",
            "      Yards Per Carry Rushing TDs Fumbles Fumbles Lost  \n",
            "36272             1.0           0       0            0  \n",
            "36273             2.5           0       0            0  \n",
            "36274              --          --       0            0  \n",
            "36275            -1.0           0       0            0  \n",
            "36276            -1.0           0       1            0  \n",
            "...               ...         ...     ...          ...  \n",
            "36521              --          --       0            0  \n",
            "36522              --          --       0            0  \n",
            "36523              --          --       0            0  \n",
            "36524            12.6           0       1            1  \n",
            "36525             7.8           0       2            2  \n",
            "\n",
            "[254 rows x 29 columns]\u001b[0m\n",
            "Thought:\u001b[32;1m\u001b[1;3m I need to find Mike Vick's last game\n",
            "Action: python_repl_ast\n",
            "Action Input: df2[df2['Player Id'] == 'mikevick/2504531'].sort_values(by='Game Date', ascending=False).head(1)\u001b[0m\n",
            "Observation: \u001b[36;1m\u001b[1;3m              Player Id        Name Position  Year          Season  Week  \\\n",
            "36434  mikevick/2504531  Vick, Mike      NaN  2006  Regular Season    17   \n",
            "\n",
            "      Game Date Home or Away Opponent Outcome  ... Ints  Sacks  \\\n",
            "36434     12/31         Away      PHI       L  ...    0      3   \n",
            "\n",
            "      Sacked Yards Lost Passer Rating Rushing Attempts Rushing Yards  \\\n",
            "36434                29          97.6                3            17   \n",
            "\n",
            "      Yards Per Carry Rushing TDs Fumbles Fumbles Lost  \n",
            "36434             5.7           0       0            0  \n",
            "\n",
            "[1 rows x 29 columns]\u001b[0m\n",
            "Thought:\u001b[32;1m\u001b[1;3m I now know the final answer\n",
            "Final Answer: Mike Vick's last game was on December 31, 2006.\u001b[0m\n",
            "\n",
            "\u001b[1m> Finished chain.\u001b[0m\n"
          ]
        },
        {
          "output_type": "execute_result",
          "data": {
            "text/plain": [
              "\"Mike Vick's last game was on December 31, 2006.\""
            ],
            "application/vnd.google.colaboratory.intrinsic+json": {
              "type": "string"
            }
          },
          "metadata": {},
          "execution_count": 96
        }
      ]
    },
    {
      "cell_type": "markdown",
      "source": [
        "## Final Thoughts\n",
        "\n",
        "This dataset is definitely not right. There accumated data does not add up to what is actually in NFL.  `agent` is cool to use but you have to be very precise with the dataset but still cool nonetheless.  I've noticed that there was a time where it was stuck in an infinite loop error trying to find a column and not finding it, even thought it already existed."
      ],
      "metadata": {
        "id": "Kc1mXfn8mM5F"
      }
    },
    {
      "cell_type": "code",
      "source": [],
      "metadata": {
        "id": "DPrTIMEgmgpI"
      },
      "execution_count": null,
      "outputs": []
    }
  ]
}